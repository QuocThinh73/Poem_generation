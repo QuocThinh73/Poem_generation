{
  "cells": [
    {
      "cell_type": "markdown",
      "metadata": {
        "id": "9Z_BxFIvOEkN"
      },
      "source": [
        "# Install selenium in Colab"
      ]
    },
    {
      "cell_type": "code",
      "execution_count": 1,
      "metadata": {
        "colab": {
          "base_uri": "https://localhost:8080/"
        },
        "id": "nyhfYmppNZ8E",
        "outputId": "76672095-5843-49f9-9c18-584cb9a6f1a8"
      },
      "outputs": [
        {
          "output_type": "stream",
          "name": "stdout",
          "text": [
            "Warning: apt-key is deprecated. Manage keyring files in trusted.gpg.d instead (see apt-key(8)).\n",
            "Executing: /tmp/apt-key-gpghome.V2tovXVK7n/gpg.1.sh --keyserver keyserver.ubuntu.com --recv-keys DCC9EFBF77E11517\n",
            "gpg: key DCC9EFBF77E11517: public key \"Debian Stable Release Key (10/buster) <debian-release@lists.debian.org>\" imported\n",
            "gpg: Total number processed: 1\n",
            "gpg:               imported: 1\n",
            "Warning: apt-key is deprecated. Manage keyring files in trusted.gpg.d instead (see apt-key(8)).\n",
            "Executing: /tmp/apt-key-gpghome.QS0pjB4LFd/gpg.1.sh --keyserver keyserver.ubuntu.com --recv-keys 648ACFD622F3D138\n",
            "gpg: key DC30D7C23CBBABEE: public key \"Debian Archive Automatic Signing Key (10/buster) <ftpmaster@debian.org>\" imported\n",
            "gpg: Total number processed: 1\n",
            "gpg:               imported: 1\n",
            "Warning: apt-key is deprecated. Manage keyring files in trusted.gpg.d instead (see apt-key(8)).\n",
            "Executing: /tmp/apt-key-gpghome.DmwchDOpWF/gpg.1.sh --keyserver keyserver.ubuntu.com --recv-keys 112695A0E562B32A\n",
            "gpg: key 4DFAB270CAA96DFA: public key \"Debian Security Archive Automatic Signing Key (10/buster) <ftpmaster@debian.org>\" imported\n",
            "gpg: Total number processed: 1\n",
            "gpg:               imported: 1\n",
            "Warning: apt-key is deprecated. Manage keyring files in trusted.gpg.d instead (see apt-key(8)).\n",
            "Warning: apt-key is deprecated. Manage keyring files in trusted.gpg.d instead (see apt-key(8)).\n",
            "Warning: apt-key is deprecated. Manage keyring files in trusted.gpg.d instead (see apt-key(8)).\n",
            "Get:1 http://deb.debian.org/debian buster InRelease [122 kB]\n",
            "Hit:2 http://archive.ubuntu.com/ubuntu jammy InRelease\n",
            "Get:3 http://archive.ubuntu.com/ubuntu jammy-updates InRelease [128 kB]\n",
            "Get:4 http://deb.debian.org/debian buster-updates InRelease [56.6 kB]\n",
            "Get:5 http://deb.debian.org/debian-security buster/updates InRelease [34.8 kB]\n",
            "Get:6 http://security.ubuntu.com/ubuntu jammy-security InRelease [129 kB]\n",
            "Get:7 http://archive.ubuntu.com/ubuntu jammy-backports InRelease [127 kB]\n",
            "Get:8 https://cloud.r-project.org/bin/linux/ubuntu jammy-cran40/ InRelease [3,632 B]\n",
            "Hit:9 https://developer.download.nvidia.com/compute/cuda/repos/ubuntu2204/x86_64  InRelease\n",
            "Get:10 http://deb.debian.org/debian buster/main amd64 Packages [10.7 MB]\n",
            "Hit:11 https://ppa.launchpadcontent.net/deadsnakes/ppa/ubuntu jammy InRelease\n",
            "Hit:12 https://ppa.launchpadcontent.net/graphics-drivers/ppa/ubuntu jammy InRelease\n",
            "Get:13 https://r2u.stat.illinois.edu/ubuntu jammy InRelease [6,555 B]\n",
            "Hit:14 https://ppa.launchpadcontent.net/ubuntugis/ppa/ubuntu jammy InRelease\n",
            "Get:15 http://deb.debian.org/debian buster-updates/main amd64 Packages [9,745 B]\n",
            "Get:16 http://deb.debian.org/debian-security buster/updates/main amd64 Packages [796 kB]\n",
            "Get:17 http://archive.ubuntu.com/ubuntu jammy-updates/main amd64 Packages [3,003 kB]\n",
            "Get:18 http://archive.ubuntu.com/ubuntu jammy-backports/main amd64 Packages [82.7 kB]\n",
            "Get:19 http://archive.ubuntu.com/ubuntu jammy-backports/universe amd64 Packages [35.2 kB]\n",
            "Get:20 https://r2u.stat.illinois.edu/ubuntu jammy/main amd64 Packages [2,679 kB]\n",
            "Get:21 https://r2u.stat.illinois.edu/ubuntu jammy/main all Packages [8,767 kB]\n",
            "Fetched 26.7 MB in 8s (3,190 kB/s)\n",
            "Reading package lists... Done\n",
            "W: Skipping acquire of configured file 'main/source/Sources' as repository 'https://r2u.stat.illinois.edu/ubuntu jammy InRelease' does not seem to provide it (sources.list entry misspelt?)\n",
            "Reading package lists... Done\n",
            "Building dependency tree... Done\n",
            "Reading state information... Done\n",
            "The following additional packages will be installed:\n",
            "  chromium-common chromium-sandbox libevent-2.1-6 libfontenc1 libgudev-1.0-0 libicu63\n",
            "  libimobiledevice6 libjpeg62-turbo libjsoncpp1 libplist3 libre2-5 libu2f-udev libupower-glib3\n",
            "  libusbmuxd6 libvpx5 libwebp6 libxkbfile1 libxtst6 libxxf86dga1 notification-daemon\n",
            "  systemd-hwe-hwdb udev upower usbmuxd x11-utils\n",
            "Suggested packages:\n",
            "  chromium-l10n chromium-shell libusbmuxd-tools mesa-utils\n",
            "The following NEW packages will be installed:\n",
            "  chromium chromium-common chromium-driver chromium-sandbox libevent-2.1-6 libfontenc1\n",
            "  libgudev-1.0-0 libicu63 libimobiledevice6 libjpeg62-turbo libjsoncpp1 libplist3 libre2-5\n",
            "  libu2f-udev libupower-glib3 libusbmuxd6 libvpx5 libwebp6 libxkbfile1 libxtst6 libxxf86dga1\n",
            "  notification-daemon systemd-hwe-hwdb udev upower usbmuxd x11-utils\n",
            "0 upgraded, 27 newly installed, 0 to remove and 29 not upgraded.\n",
            "Need to get 76.8 MB of archives.\n",
            "After this operation, 267 MB of additional disk space will be used.\n",
            "Get:1 http://deb.debian.org/debian buster/main amd64 libevent-2.1-6 amd64 2.1.8-stable-4 [177 kB]\n",
            "Get:2 http://archive.ubuntu.com/ubuntu jammy-updates/main amd64 udev amd64 249.11-0ubuntu3.12 [1,557 kB]\n",
            "Get:3 http://deb.debian.org/debian buster/main amd64 libicu63 amd64 63.1-6+deb10u3 [8,293 kB]\n",
            "Get:4 http://deb.debian.org/debian buster/main amd64 libjpeg62-turbo amd64 1:1.5.2-2+deb10u1 [133 kB]\n",
            "Get:5 http://deb.debian.org/debian buster/main amd64 libjsoncpp1 amd64 1.7.4-3 [75.6 kB]\n",
            "Get:6 http://deb.debian.org/debian buster/main amd64 libre2-5 amd64 20190101+dfsg-2 [161 kB]\n",
            "Get:7 http://deb.debian.org/debian-security buster/updates/main amd64 libvpx5 amd64 1.7.0-3+deb10u3 [800 kB]\n",
            "Get:8 http://archive.ubuntu.com/ubuntu jammy/main amd64 libfontenc1 amd64 1:1.1.4-1build3 [14.7 kB]\n",
            "Get:9 http://archive.ubuntu.com/ubuntu jammy/main amd64 libxkbfile1 amd64 1:1.1.0-1build3 [71.8 kB]\n",
            "Get:10 http://deb.debian.org/debian-security buster/updates/main amd64 libwebp6 amd64 0.6.1-2+deb10u3 [263 kB]\n",
            "Get:11 http://archive.ubuntu.com/ubuntu jammy/main amd64 libxtst6 amd64 2:1.2.3-1build4 [13.4 kB]\n",
            "Get:12 http://archive.ubuntu.com/ubuntu jammy/main amd64 libxxf86dga1 amd64 2:1.1.5-0ubuntu3 [12.6 kB]\n",
            "Get:13 http://archive.ubuntu.com/ubuntu jammy/main amd64 x11-utils amd64 7.7+5build2 [206 kB]\n",
            "Get:14 http://deb.debian.org/debian buster/main amd64 chromium-common amd64 90.0.4430.212-1~deb10u1 [1,423 kB]\n",
            "Get:15 http://archive.ubuntu.com/ubuntu jammy/main amd64 libgudev-1.0-0 amd64 1:237-2build1 [16.3 kB]\n",
            "Get:16 http://archive.ubuntu.com/ubuntu jammy/main amd64 libplist3 amd64 2.2.0-6build2 [32.1 kB]\n",
            "Get:17 http://archive.ubuntu.com/ubuntu jammy/main amd64 libusbmuxd6 amd64 2.0.2-3build2 [20.4 kB]\n",
            "Get:18 http://archive.ubuntu.com/ubuntu jammy/main amd64 libimobiledevice6 amd64 1.3.0-6build3 [71.1 kB]\n",
            "Get:19 http://archive.ubuntu.com/ubuntu jammy/main amd64 libu2f-udev all 1.1.10-3build2 [4,190 B]\n",
            "Get:20 http://archive.ubuntu.com/ubuntu jammy/main amd64 libupower-glib3 amd64 0.99.17-1 [46.7 kB]\n",
            "Get:21 http://archive.ubuntu.com/ubuntu jammy/universe amd64 notification-daemon amd64 3.20.0-4build1 [57.6 kB]\n",
            "Get:22 http://archive.ubuntu.com/ubuntu jammy-updates/main amd64 systemd-hwe-hwdb all 249.11.5 [3,228 B]\n",
            "Get:23 http://archive.ubuntu.com/ubuntu jammy/main amd64 upower amd64 0.99.17-1 [86.7 kB]\n",
            "Get:24 http://archive.ubuntu.com/ubuntu jammy/main amd64 usbmuxd amd64 1.1.1-2build2 [42.8 kB]\n",
            "Get:25 http://deb.debian.org/debian buster/main amd64 chromium amd64 90.0.4430.212-1~deb10u1 [58.3 MB]\n",
            "Get:26 http://deb.debian.org/debian buster/main amd64 chromium-driver amd64 90.0.4430.212-1~deb10u1 [4,703 kB]\n",
            "Get:27 http://deb.debian.org/debian buster/main amd64 chromium-sandbox amd64 90.0.4430.212-1~deb10u1 [146 kB]\n",
            "Fetched 76.8 MB in 1s (74.4 MB/s)\n",
            "Selecting previously unselected package udev.\n",
            "(Reading database ... 126209 files and directories currently installed.)\n",
            "Preparing to unpack .../00-udev_249.11-0ubuntu3.12_amd64.deb ...\n",
            "Unpacking udev (249.11-0ubuntu3.12) ...\n",
            "Selecting previously unselected package libevent-2.1-6:amd64.\n",
            "Preparing to unpack .../01-libevent-2.1-6_2.1.8-stable-4_amd64.deb ...\n",
            "Unpacking libevent-2.1-6:amd64 (2.1.8-stable-4) ...\n",
            "Selecting previously unselected package libicu63:amd64.\n",
            "Preparing to unpack .../02-libicu63_63.1-6+deb10u3_amd64.deb ...\n",
            "Unpacking libicu63:amd64 (63.1-6+deb10u3) ...\n",
            "Selecting previously unselected package libjpeg62-turbo:amd64.\n",
            "Preparing to unpack .../03-libjpeg62-turbo_1%3a1.5.2-2+deb10u1_amd64.deb ...\n",
            "Unpacking libjpeg62-turbo:amd64 (1:1.5.2-2+deb10u1) ...\n",
            "Selecting previously unselected package libjsoncpp1:amd64.\n",
            "Preparing to unpack .../04-libjsoncpp1_1.7.4-3_amd64.deb ...\n",
            "Unpacking libjsoncpp1:amd64 (1.7.4-3) ...\n",
            "Selecting previously unselected package libre2-5:amd64.\n",
            "Preparing to unpack .../05-libre2-5_20190101+dfsg-2_amd64.deb ...\n",
            "Unpacking libre2-5:amd64 (20190101+dfsg-2) ...\n",
            "Selecting previously unselected package libvpx5:amd64.\n",
            "Preparing to unpack .../06-libvpx5_1.7.0-3+deb10u3_amd64.deb ...\n",
            "Unpacking libvpx5:amd64 (1.7.0-3+deb10u3) ...\n",
            "Selecting previously unselected package libwebp6:amd64.\n",
            "Preparing to unpack .../07-libwebp6_0.6.1-2+deb10u3_amd64.deb ...\n",
            "Unpacking libwebp6:amd64 (0.6.1-2+deb10u3) ...\n",
            "Selecting previously unselected package libfontenc1:amd64.\n",
            "Preparing to unpack .../08-libfontenc1_1%3a1.1.4-1build3_amd64.deb ...\n",
            "Unpacking libfontenc1:amd64 (1:1.1.4-1build3) ...\n",
            "Selecting previously unselected package libxkbfile1:amd64.\n",
            "Preparing to unpack .../09-libxkbfile1_1%3a1.1.0-1build3_amd64.deb ...\n",
            "Unpacking libxkbfile1:amd64 (1:1.1.0-1build3) ...\n",
            "Selecting previously unselected package libxtst6:amd64.\n",
            "Preparing to unpack .../10-libxtst6_2%3a1.2.3-1build4_amd64.deb ...\n",
            "Unpacking libxtst6:amd64 (2:1.2.3-1build4) ...\n",
            "Selecting previously unselected package libxxf86dga1:amd64.\n",
            "Preparing to unpack .../11-libxxf86dga1_2%3a1.1.5-0ubuntu3_amd64.deb ...\n",
            "Unpacking libxxf86dga1:amd64 (2:1.1.5-0ubuntu3) ...\n",
            "Selecting previously unselected package x11-utils.\n",
            "Preparing to unpack .../12-x11-utils_7.7+5build2_amd64.deb ...\n",
            "Unpacking x11-utils (7.7+5build2) ...\n",
            "Selecting previously unselected package chromium-common.\n",
            "Preparing to unpack .../13-chromium-common_90.0.4430.212-1~deb10u1_amd64.deb ...\n",
            "Unpacking chromium-common (90.0.4430.212-1~deb10u1) ...\n",
            "Selecting previously unselected package chromium.\n",
            "Preparing to unpack .../14-chromium_90.0.4430.212-1~deb10u1_amd64.deb ...\n",
            "Unpacking chromium (90.0.4430.212-1~deb10u1) ...\n",
            "Selecting previously unselected package chromium-driver.\n",
            "Preparing to unpack .../15-chromium-driver_90.0.4430.212-1~deb10u1_amd64.deb ...\n",
            "Unpacking chromium-driver (90.0.4430.212-1~deb10u1) ...\n",
            "Selecting previously unselected package chromium-sandbox.\n",
            "Preparing to unpack .../16-chromium-sandbox_90.0.4430.212-1~deb10u1_amd64.deb ...\n",
            "Unpacking chromium-sandbox (90.0.4430.212-1~deb10u1) ...\n",
            "Selecting previously unselected package libgudev-1.0-0:amd64.\n",
            "Preparing to unpack .../17-libgudev-1.0-0_1%3a237-2build1_amd64.deb ...\n",
            "Unpacking libgudev-1.0-0:amd64 (1:237-2build1) ...\n",
            "Selecting previously unselected package libplist3:amd64.\n",
            "Preparing to unpack .../18-libplist3_2.2.0-6build2_amd64.deb ...\n",
            "Unpacking libplist3:amd64 (2.2.0-6build2) ...\n",
            "Selecting previously unselected package libusbmuxd6:amd64.\n",
            "Preparing to unpack .../19-libusbmuxd6_2.0.2-3build2_amd64.deb ...\n",
            "Unpacking libusbmuxd6:amd64 (2.0.2-3build2) ...\n",
            "Selecting previously unselected package libimobiledevice6:amd64.\n",
            "Preparing to unpack .../20-libimobiledevice6_1.3.0-6build3_amd64.deb ...\n",
            "Unpacking libimobiledevice6:amd64 (1.3.0-6build3) ...\n",
            "Selecting previously unselected package libu2f-udev.\n",
            "Preparing to unpack .../21-libu2f-udev_1.1.10-3build2_all.deb ...\n",
            "Unpacking libu2f-udev (1.1.10-3build2) ...\n",
            "Selecting previously unselected package libupower-glib3:amd64.\n",
            "Preparing to unpack .../22-libupower-glib3_0.99.17-1_amd64.deb ...\n",
            "Unpacking libupower-glib3:amd64 (0.99.17-1) ...\n",
            "Selecting previously unselected package notification-daemon.\n",
            "Preparing to unpack .../23-notification-daemon_3.20.0-4build1_amd64.deb ...\n",
            "Unpacking notification-daemon (3.20.0-4build1) ...\n",
            "Selecting previously unselected package systemd-hwe-hwdb.\n",
            "Preparing to unpack .../24-systemd-hwe-hwdb_249.11.5_all.deb ...\n",
            "Unpacking systemd-hwe-hwdb (249.11.5) ...\n",
            "Selecting previously unselected package upower.\n",
            "Preparing to unpack .../25-upower_0.99.17-1_amd64.deb ...\n",
            "Unpacking upower (0.99.17-1) ...\n",
            "Selecting previously unselected package usbmuxd.\n",
            "Preparing to unpack .../26-usbmuxd_1.1.1-2build2_amd64.deb ...\n",
            "Unpacking usbmuxd (1.1.1-2build2) ...\n",
            "Setting up libplist3:amd64 (2.2.0-6build2) ...\n",
            "Setting up libxtst6:amd64 (2:1.2.3-1build4) ...\n",
            "Setting up libxxf86dga1:amd64 (2:1.1.5-0ubuntu3) ...\n",
            "Setting up chromium-sandbox (90.0.4430.212-1~deb10u1) ...\n",
            "Setting up libicu63:amd64 (63.1-6+deb10u3) ...\n",
            "Setting up notification-daemon (3.20.0-4build1) ...\n",
            "Setting up libfontenc1:amd64 (1:1.1.4-1build3) ...\n",
            "Setting up libjpeg62-turbo:amd64 (1:1.5.2-2+deb10u1) ...\n",
            "Setting up udev (249.11-0ubuntu3.12) ...\n",
            "invoke-rc.d: could not determine current runlevel\n",
            "invoke-rc.d: policy-rc.d denied execution of start.\n",
            "Setting up libwebp6:amd64 (0.6.1-2+deb10u3) ...\n",
            "Setting up libevent-2.1-6:amd64 (2.1.8-stable-4) ...\n",
            "Setting up systemd-hwe-hwdb (249.11.5) ...\n",
            "Setting up libusbmuxd6:amd64 (2.0.2-3build2) ...\n",
            "Setting up libupower-glib3:amd64 (0.99.17-1) ...\n",
            "Setting up libre2-5:amd64 (20190101+dfsg-2) ...\n",
            "Setting up libxkbfile1:amd64 (1:1.1.0-1build3) ...\n",
            "Setting up libimobiledevice6:amd64 (1.3.0-6build3) ...\n",
            "Setting up libgudev-1.0-0:amd64 (1:237-2build1) ...\n",
            "Setting up libvpx5:amd64 (1.7.0-3+deb10u3) ...\n",
            "Setting up libjsoncpp1:amd64 (1.7.4-3) ...\n",
            "Setting up libu2f-udev (1.1.10-3build2) ...\n",
            "Setting up upower (0.99.17-1) ...\n",
            "Setting up usbmuxd (1.1.1-2build2) ...\n",
            "Warning: The home dir /var/lib/usbmux you specified can't be accessed: No such file or directory\n",
            "Adding system user `usbmux' (UID 104) ...\n",
            "Adding new user `usbmux' (UID 104) with group `plugdev' ...\n",
            "Not creating home directory `/var/lib/usbmux'.\n",
            "Setting up x11-utils (7.7+5build2) ...\n",
            "Setting up chromium-common (90.0.4430.212-1~deb10u1) ...\n",
            "Setting up chromium (90.0.4430.212-1~deb10u1) ...\n",
            "update-alternatives: using /usr/bin/chromium to provide /usr/bin/x-www-browser (x-www-browser) in auto mode\n",
            "update-alternatives: using /usr/bin/chromium to provide /usr/bin/gnome-www-browser (gnome-www-browser) in auto mode\n",
            "Setting up chromium-driver (90.0.4430.212-1~deb10u1) ...\n",
            "Processing triggers for man-db (2.10.2-1) ...\n",
            "Processing triggers for dbus (1.12.20-2ubuntu4.1) ...\n",
            "Processing triggers for mailcap (3.70+nmu1ubuntu1) ...\n",
            "Processing triggers for hicolor-icon-theme (0.17-2) ...\n",
            "Processing triggers for libc-bin (2.35-0ubuntu3.8) ...\n",
            "/sbin/ldconfig.real: /usr/local/lib/libtbbmalloc.so.2 is not a symbolic link\n",
            "\n",
            "/sbin/ldconfig.real: /usr/local/lib/libtbb.so.12 is not a symbolic link\n",
            "\n",
            "/sbin/ldconfig.real: /usr/local/lib/libhwloc.so.15 is not a symbolic link\n",
            "\n",
            "/sbin/ldconfig.real: /usr/local/lib/libur_loader.so.0 is not a symbolic link\n",
            "\n",
            "/sbin/ldconfig.real: /usr/local/lib/libtbbmalloc_proxy.so.2 is not a symbolic link\n",
            "\n",
            "/sbin/ldconfig.real: /usr/local/lib/libtcm_debug.so.1 is not a symbolic link\n",
            "\n",
            "/sbin/ldconfig.real: /usr/local/lib/libtcm.so.1 is not a symbolic link\n",
            "\n",
            "/sbin/ldconfig.real: /usr/local/lib/libur_adapter_level_zero.so.0 is not a symbolic link\n",
            "\n",
            "/sbin/ldconfig.real: /usr/local/lib/libumf.so.0 is not a symbolic link\n",
            "\n",
            "/sbin/ldconfig.real: /usr/local/lib/libur_adapter_opencl.so.0 is not a symbolic link\n",
            "\n",
            "/sbin/ldconfig.real: /usr/local/lib/libtbbbind_2_0.so.3 is not a symbolic link\n",
            "\n",
            "/sbin/ldconfig.real: /usr/local/lib/libtbbbind_2_5.so.3 is not a symbolic link\n",
            "\n",
            "/sbin/ldconfig.real: /usr/local/lib/libtbbbind.so.3 is not a symbolic link\n",
            "\n",
            "Collecting selenium\n",
            "  Downloading selenium-4.30.0-py3-none-any.whl.metadata (7.5 kB)\n",
            "Requirement already satisfied: urllib3<3,>=1.26 in /usr/local/lib/python3.11/dist-packages (from urllib3[socks]<3,>=1.26->selenium) (2.3.0)\n",
            "Collecting trio~=0.17 (from selenium)\n",
            "  Downloading trio-0.29.0-py3-none-any.whl.metadata (8.5 kB)\n",
            "Collecting trio-websocket~=0.9 (from selenium)\n",
            "  Downloading trio_websocket-0.12.2-py3-none-any.whl.metadata (5.1 kB)\n",
            "Requirement already satisfied: certifi>=2021.10.8 in /usr/local/lib/python3.11/dist-packages (from selenium) (2025.1.31)\n",
            "Requirement already satisfied: typing_extensions~=4.9 in /usr/local/lib/python3.11/dist-packages (from selenium) (4.12.2)\n",
            "Requirement already satisfied: websocket-client~=1.8 in /usr/local/lib/python3.11/dist-packages (from selenium) (1.8.0)\n",
            "Requirement already satisfied: attrs>=23.2.0 in /usr/local/lib/python3.11/dist-packages (from trio~=0.17->selenium) (25.3.0)\n",
            "Requirement already satisfied: sortedcontainers in /usr/local/lib/python3.11/dist-packages (from trio~=0.17->selenium) (2.4.0)\n",
            "Requirement already satisfied: idna in /usr/local/lib/python3.11/dist-packages (from trio~=0.17->selenium) (3.10)\n",
            "Collecting outcome (from trio~=0.17->selenium)\n",
            "  Downloading outcome-1.3.0.post0-py2.py3-none-any.whl.metadata (2.6 kB)\n",
            "Requirement already satisfied: sniffio>=1.3.0 in /usr/local/lib/python3.11/dist-packages (from trio~=0.17->selenium) (1.3.1)\n",
            "Collecting wsproto>=0.14 (from trio-websocket~=0.9->selenium)\n",
            "  Downloading wsproto-1.2.0-py3-none-any.whl.metadata (5.6 kB)\n",
            "Requirement already satisfied: pysocks!=1.5.7,<2.0,>=1.5.6 in /usr/local/lib/python3.11/dist-packages (from urllib3[socks]<3,>=1.26->selenium) (1.7.1)\n",
            "Requirement already satisfied: h11<1,>=0.9.0 in /usr/local/lib/python3.11/dist-packages (from wsproto>=0.14->trio-websocket~=0.9->selenium) (0.14.0)\n",
            "Downloading selenium-4.30.0-py3-none-any.whl (9.4 MB)\n",
            "\u001b[2K   \u001b[90m━━━━━━━━━━━━━━━━━━━━━━━━━━━━━━━━━━━━━━━━\u001b[0m \u001b[32m9.4/9.4 MB\u001b[0m \u001b[31m51.8 MB/s\u001b[0m eta \u001b[36m0:00:00\u001b[0m\n",
            "\u001b[?25hDownloading trio-0.29.0-py3-none-any.whl (492 kB)\n",
            "\u001b[2K   \u001b[90m━━━━━━━━━━━━━━━━━━━━━━━━━━━━━━━━━━━━━━━━\u001b[0m \u001b[32m492.9/492.9 kB\u001b[0m \u001b[31m25.4 MB/s\u001b[0m eta \u001b[36m0:00:00\u001b[0m\n",
            "\u001b[?25hDownloading trio_websocket-0.12.2-py3-none-any.whl (21 kB)\n",
            "Downloading outcome-1.3.0.post0-py2.py3-none-any.whl (10 kB)\n",
            "Downloading wsproto-1.2.0-py3-none-any.whl (24 kB)\n",
            "Installing collected packages: wsproto, outcome, trio, trio-websocket, selenium\n",
            "Successfully installed outcome-1.3.0.post0 selenium-4.30.0 trio-0.29.0 trio-websocket-0.12.2 wsproto-1.2.0\n"
          ]
        },
        {
          "output_type": "execute_result",
          "data": {
            "text/plain": []
          },
          "metadata": {},
          "execution_count": 1
        }
      ],
      "source": [
        "%%shell\n",
        "# Ubuntu no longer distributes chromium-browser outside of snap\n",
        "# Proposed solution: https://askubuntu.com/questions/1204571/how-to-install-chromium-without-snap\n",
        "\n",
        "# Add Debian Buster repository\n",
        "cat > /etc/apt/sources.list.d/debian.list << \"EOF\"\n",
        "deb [arch=amd64 signed-by=/usr/share/keyrings/debian-buster.gpg] http://deb.debian.org/debian buster main\n",
        "deb [arch=amd64 signed-by=/usr/share/keyrings/debian-buster-updates.gpg] http://deb.debian.org/debian buster-updates main\n",
        "deb [arch=amd64 signed-by=/usr/share/keyrings/debian-security-buster.gpg] http://deb.debian.org/debian-security buster/updates main\n",
        "EOF\n",
        "\n",
        "# Add keys\n",
        "apt-key adv --keyserver keyserver.ubuntu.com --recv-keys DCC9EFBF77E11517\n",
        "apt-key adv --keyserver keyserver.ubuntu.com --recv-keys 648ACFD622F3D138\n",
        "apt-key adv --keyserver keyserver.ubuntu.com --recv-keys 112695A0E562B32A\n",
        "\n",
        "apt-key export 77E11517 | gpg --dearmour -o /usr/share/keyrings/debian-buster.gpg\n",
        "apt-key export 22F3D138 | gpg --dearmour -o /usr/share/keyrings/debian-buster-updates.gpg\n",
        "apt-key export E562B32A | gpg --dearmour -o /usr/share/keyrings/debian-security-buster.gpg\n",
        "\n",
        "# Prefer Debian repo for chromium* packages only\n",
        "cat > /etc/apt/preferences.d/chromium.pref << \"EOF\"\n",
        "Package: *\n",
        "Pin: release a=eoan\n",
        "Pin-Priority: 500\n",
        "\n",
        "Package: *\n",
        "Pin: origin \"deb.debian.org\"\n",
        "Pin-Priority: 300\n",
        "\n",
        "Package: chromium*\n",
        "Pin: origin \"deb.debian.org\"\n",
        "Pin-Priority: 700\n",
        "EOF\n",
        "\n",
        "# Install chromium and chromium-driver\n",
        "apt-get update\n",
        "apt-get install chromium chromium-driver\n",
        "\n",
        "# Install selenium\n",
        "pip install selenium"
      ]
    },
    {
      "cell_type": "markdown",
      "metadata": {
        "id": "VqncOwJ7OKAC"
      },
      "source": [
        "# Import libraries"
      ]
    },
    {
      "cell_type": "code",
      "execution_count": 2,
      "metadata": {
        "id": "H-jS0Ik5ONWZ"
      },
      "outputs": [],
      "source": [
        "import pandas as pd\n",
        "import os\n",
        "import requests\n",
        "import time\n",
        "import random\n",
        "\n",
        "from bs4 import BeautifulSoup\n",
        "from tqdm import tqdm\n",
        "from selenium import webdriver\n",
        "from selenium.webdriver.common.by import By\n",
        "from selenium.webdriver.chrome.service import Service\n",
        "from selenium.webdriver.support.ui import WebDriverWait\n",
        "from selenium.webdriver.support import expected_conditions as EC"
      ]
    },
    {
      "cell_type": "markdown",
      "metadata": {
        "id": "J0Mx_K2iOQq_"
      },
      "source": [
        "# Create driver"
      ]
    },
    {
      "cell_type": "code",
      "execution_count": 3,
      "metadata": {
        "id": "QuYKR5dnOUyx"
      },
      "outputs": [],
      "source": [
        "WEBDRIVER_DELAY_TIME_INT = 10\n",
        "\n",
        "service = Service(excutable_path=r'/usr/bin/chromedriver')\n",
        "chrome_options = webdriver.ChromeOptions()\n",
        "chrome_options.add_argument('--headless')\n",
        "chrome_options.add_argument('--no-sandbox')\n",
        "chrome_options.headless = True\n",
        "driver = webdriver.Chrome(service=service, options=chrome_options)\n",
        "driver.implicitly_wait(5)\n",
        "wait = WebDriverWait(driver, WEBDRIVER_DELAY_TIME_INT)"
      ]
    },
    {
      "cell_type": "markdown",
      "metadata": {
        "id": "bqEW6I7jOXTr"
      },
      "source": [
        "# Crawl data"
      ]
    },
    {
      "cell_type": "code",
      "execution_count": 4,
      "metadata": {
        "id": "oI9GeAcfkSgP"
      },
      "outputs": [],
      "source": [
        "def crawl_data(url, start_page, end_page):\n",
        "  datasets = []\n",
        "\n",
        "  for page_idx in tqdm(range(start_page, end_page + 1)):\n",
        "      main_url = f'{url}&Page={page_idx}'\n",
        "      driver.get(main_url)\n",
        "\n",
        "      content_tags = driver.find_elements(By.CLASS_NAME, 'page-content-main')\n",
        "\n",
        "      for content_tag in content_tags:\n",
        "          list_items = content_tag.find_elements(By.CLASS_NAME, 'list-item')\n",
        "          poem_urls = []\n",
        "          for item in list_items:\n",
        "              a_tag = item.find_element(By.CSS_SELECTOR, 'h4.list-item-header a')\n",
        "              poem_url = a_tag.get_attribute('href')\n",
        "              poem_urls.append(poem_url)\n",
        "\n",
        "          print('\\n', poem_urls)\n",
        "          for poem_url in poem_urls:\n",
        "              print(f\"Truy cập {poem_url}\")\n",
        "              try:\n",
        "                  driver.get(poem_url)\n",
        "\n",
        "                  poem_content_tag = wait.until(\n",
        "                      EC.presence_of_element_located((By.CLASS_NAME, 'poem-content')))\n",
        "\n",
        "                  p_tags = poem_content_tag.find_elements(By.XPATH, './p')\n",
        "                  if not p_tags:\n",
        "                      continue\n",
        "\n",
        "                  poem_lines = []\n",
        "                  for p_tag in p_tags:\n",
        "                      soup = BeautifulSoup(p_tag.get_attribute('outerHTML'), 'html.parser')\n",
        "\n",
        "                      for br in soup.find_all(\"br\"):\n",
        "                          br.replace_with(\"\\n\")\n",
        "\n",
        "                      poem_lines.append(soup.get_text(separator=\" \", strip=True))\n",
        "\n",
        "                  poem_content = \"\\n\".join(poem_lines)\n",
        "\n",
        "                  poem_info = {\n",
        "                      'content': poem_content,\n",
        "                      'url': poem_url,\n",
        "                  }\n",
        "                  datasets.append(poem_info)\n",
        "                  print(f\"Lấy dữ liệu thành công {poem_url}\")\n",
        "\n",
        "              except Exception as e:\n",
        "                  print(f\"Lỗi truy cập link {poem_url}\")\n",
        "\n",
        "  return datasets"
      ]
    },
    {
      "cell_type": "code",
      "execution_count": 5,
      "metadata": {
        "id": "sdcD4SjxqvoB",
        "colab": {
          "base_uri": "https://localhost:8080/"
        },
        "outputId": "a47789e0-29b0-428c-d5ff-19f4eac05154"
      },
      "outputs": [
        {
          "output_type": "stream",
          "name": "stderr",
          "text": [
            "\r  0%|          | 0/3 [00:00<?, ?it/s]"
          ]
        },
        {
          "output_type": "stream",
          "name": "stdout",
          "text": [
            "\n",
            " ['https://www.thivien.net/Nguy%E1%BB%85n-B%E1%BB%89nh-Khi%C3%AAm/B%C3%A0i-98/poem-mE-LYXC5BY8fjsmlyDfP6g', 'https://www.thivien.net/Tr%E1%BB%8Bnh-Doanh/Ban-cung-nh%C3%A2n-b%C3%A0i-7/poem-MwxPhw4C75HQsgfR8V0--g', 'https://www.thivien.net/Nguy%E1%BB%85n-Qu%E1%BB%B3nh/B%E1%BB%A1n-quan-tr%C6%B0%E1%BB%9Dng-ch%E1%BA%A5m-thi/poem-xi6SHf8oI0xwzRyJgBD-6g', 'https://www.thivien.net/Nguy%E1%BB%85n-Qu%E1%BB%B3nh/Ch%C6%A1i-Ph%E1%BB%91-Hi%E1%BA%BFn/poem-Yg6Mr8Wg9A6n-qpLItq_PQ', 'https://www.thivien.net/Khuy%E1%BA%BFt-danh-Vi%E1%BB%87t-Nam/Chung-t%C3%ACnh-I-b%C3%A0i-5-Quan-nh%E1%BA%ADm-ch%C3%A2u-kh%C3%A1ch-Hoan-ch%C3%A2u/poem-6XE8_CHUbvt8Fbn9fjZhiQ', 'https://www.thivien.net/Khuy%E1%BA%BFt-danh-Vi%E1%BB%87t-Nam/Chung-t%C3%ACnh-II-b%C3%A0i-1-T%E1%BB%AB-gh%C3%A9-non-B%E1%BB%93ng-di%E1%BB%85n-b%E1%BA%A1n-ti%C3%AAn/poem-PPwwQdxPpTajZvNfSNVANA', 'https://www.thivien.net/L%C3%AA-Th%C3%A1nh-T%C3%B4ng/D%E1%BB%87t-c%E1%BB%ADi/poem-1EWpuZh-pyaCZrrqX0o68g', 'https://www.thivien.net/Tr%E1%BB%8Bnh-Doanh/D%E1%BB%AF-cung-nh%C3%A2n-%C4%91%E1%BB%95-t%C3%ACnh-v%C5%A9/poem-gt4f_2-DO_EZvJTef238xg', 'https://www.thivien.net/Nguy%E1%BB%85n-Tr%C3%A3i/%C4%90%C3%A0o-hoa-thi-b%C3%A0i-1/poem-y4iJ6v3mYp-Z_KEorcHd_g', 'https://www.thivien.net/Nguy%E1%BB%85n-Tr%C3%A3i/%C4%90%C3%A0o-hoa-thi-b%C3%A0i-2/poem-T77YPUFr1r-w2GT5GOPcQw']\n",
            "Truy cập https://www.thivien.net/Nguy%E1%BB%85n-B%E1%BB%89nh-Khi%C3%AAm/B%C3%A0i-98/poem-mE-LYXC5BY8fjsmlyDfP6g\n",
            "Lấy dữ liệu thành công https://www.thivien.net/Nguy%E1%BB%85n-B%E1%BB%89nh-Khi%C3%AAm/B%C3%A0i-98/poem-mE-LYXC5BY8fjsmlyDfP6g\n",
            "Truy cập https://www.thivien.net/Tr%E1%BB%8Bnh-Doanh/Ban-cung-nh%C3%A2n-b%C3%A0i-7/poem-MwxPhw4C75HQsgfR8V0--g\n",
            "Lấy dữ liệu thành công https://www.thivien.net/Tr%E1%BB%8Bnh-Doanh/Ban-cung-nh%C3%A2n-b%C3%A0i-7/poem-MwxPhw4C75HQsgfR8V0--g\n",
            "Truy cập https://www.thivien.net/Nguy%E1%BB%85n-Qu%E1%BB%B3nh/B%E1%BB%A1n-quan-tr%C6%B0%E1%BB%9Dng-ch%E1%BA%A5m-thi/poem-xi6SHf8oI0xwzRyJgBD-6g\n",
            "Lấy dữ liệu thành công https://www.thivien.net/Nguy%E1%BB%85n-Qu%E1%BB%B3nh/B%E1%BB%A1n-quan-tr%C6%B0%E1%BB%9Dng-ch%E1%BA%A5m-thi/poem-xi6SHf8oI0xwzRyJgBD-6g\n",
            "Truy cập https://www.thivien.net/Nguy%E1%BB%85n-Qu%E1%BB%B3nh/Ch%C6%A1i-Ph%E1%BB%91-Hi%E1%BA%BFn/poem-Yg6Mr8Wg9A6n-qpLItq_PQ\n",
            "Lấy dữ liệu thành công https://www.thivien.net/Nguy%E1%BB%85n-Qu%E1%BB%B3nh/Ch%C6%A1i-Ph%E1%BB%91-Hi%E1%BA%BFn/poem-Yg6Mr8Wg9A6n-qpLItq_PQ\n",
            "Truy cập https://www.thivien.net/Khuy%E1%BA%BFt-danh-Vi%E1%BB%87t-Nam/Chung-t%C3%ACnh-I-b%C3%A0i-5-Quan-nh%E1%BA%ADm-ch%C3%A2u-kh%C3%A1ch-Hoan-ch%C3%A2u/poem-6XE8_CHUbvt8Fbn9fjZhiQ\n",
            "Lấy dữ liệu thành công https://www.thivien.net/Khuy%E1%BA%BFt-danh-Vi%E1%BB%87t-Nam/Chung-t%C3%ACnh-I-b%C3%A0i-5-Quan-nh%E1%BA%ADm-ch%C3%A2u-kh%C3%A1ch-Hoan-ch%C3%A2u/poem-6XE8_CHUbvt8Fbn9fjZhiQ\n",
            "Truy cập https://www.thivien.net/Khuy%E1%BA%BFt-danh-Vi%E1%BB%87t-Nam/Chung-t%C3%ACnh-II-b%C3%A0i-1-T%E1%BB%AB-gh%C3%A9-non-B%E1%BB%93ng-di%E1%BB%85n-b%E1%BA%A1n-ti%C3%AAn/poem-PPwwQdxPpTajZvNfSNVANA\n",
            "Lấy dữ liệu thành công https://www.thivien.net/Khuy%E1%BA%BFt-danh-Vi%E1%BB%87t-Nam/Chung-t%C3%ACnh-II-b%C3%A0i-1-T%E1%BB%AB-gh%C3%A9-non-B%E1%BB%93ng-di%E1%BB%85n-b%E1%BA%A1n-ti%C3%AAn/poem-PPwwQdxPpTajZvNfSNVANA\n",
            "Truy cập https://www.thivien.net/L%C3%AA-Th%C3%A1nh-T%C3%B4ng/D%E1%BB%87t-c%E1%BB%ADi/poem-1EWpuZh-pyaCZrrqX0o68g\n",
            "Lấy dữ liệu thành công https://www.thivien.net/L%C3%AA-Th%C3%A1nh-T%C3%B4ng/D%E1%BB%87t-c%E1%BB%ADi/poem-1EWpuZh-pyaCZrrqX0o68g\n",
            "Truy cập https://www.thivien.net/Tr%E1%BB%8Bnh-Doanh/D%E1%BB%AF-cung-nh%C3%A2n-%C4%91%E1%BB%95-t%C3%ACnh-v%C5%A9/poem-gt4f_2-DO_EZvJTef238xg\n",
            "Lấy dữ liệu thành công https://www.thivien.net/Tr%E1%BB%8Bnh-Doanh/D%E1%BB%AF-cung-nh%C3%A2n-%C4%91%E1%BB%95-t%C3%ACnh-v%C5%A9/poem-gt4f_2-DO_EZvJTef238xg\n",
            "Truy cập https://www.thivien.net/Nguy%E1%BB%85n-Tr%C3%A3i/%C4%90%C3%A0o-hoa-thi-b%C3%A0i-1/poem-y4iJ6v3mYp-Z_KEorcHd_g\n",
            "Lấy dữ liệu thành công https://www.thivien.net/Nguy%E1%BB%85n-Tr%C3%A3i/%C4%90%C3%A0o-hoa-thi-b%C3%A0i-1/poem-y4iJ6v3mYp-Z_KEorcHd_g\n",
            "Truy cập https://www.thivien.net/Nguy%E1%BB%85n-Tr%C3%A3i/%C4%90%C3%A0o-hoa-thi-b%C3%A0i-2/poem-T77YPUFr1r-w2GT5GOPcQw\n"
          ]
        },
        {
          "output_type": "stream",
          "name": "stderr",
          "text": [
            "\r 33%|███▎      | 1/3 [00:23<00:46, 23.29s/it]"
          ]
        },
        {
          "output_type": "stream",
          "name": "stdout",
          "text": [
            "Lấy dữ liệu thành công https://www.thivien.net/Nguy%E1%BB%85n-Tr%C3%A3i/%C4%90%C3%A0o-hoa-thi-b%C3%A0i-2/poem-T77YPUFr1r-w2GT5GOPcQw\n",
            "\n",
            " ['https://www.thivien.net/Nguy%E1%BB%85n-Tr%C3%A3i/%C4%90%C3%A0o-hoa-thi-b%C3%A0i-3/poem-Eo8O_bjQV9CSK1xQ2MCw5g', 'https://www.thivien.net/Nguy%E1%BB%85n-Tr%C3%A3i/%C4%90%C3%A0o-hoa-thi-b%C3%A0i-4/poem-mniVeONHoNctrLh3GD5K_Q', 'https://www.thivien.net/Nguy%E1%BB%85n-Tr%C3%A3i/%C4%90%C3%A0o-hoa-thi-b%C3%A0i-5/poem-oTUWo08PVWVgk1Z73UFsZg', 'https://www.thivien.net/Nguy%E1%BB%85n-Tr%C3%A3i/%C4%90%C3%A0o-hoa-thi-b%C3%A0i-6/poem-XRqcrciH6L9671B2HFBcfw', 'https://www.thivien.net/Nguy%E1%BB%85n-Gia-Ch%C3%A2u/%C4%90%E1%BB%81-%E1%BB%9F-c%E1%BB%ADa-Sinh-T%E1%BB%AD/poem-0m57jrjDO0rvGhET6T3zDQ', 'https://www.thivien.net/Nguy%E1%BB%85n-Tr%C3%A3i/Gh%E1%BA%B9o-c%C3%B4-h%C3%A0ng-chi%E1%BA%BFu/poem-mhKCYVUAIeTrxJ6Ewog4eg', 'https://www.thivien.net/Nguy%E1%BB%85n-Tr%C3%A3i/Hoa-xu%C3%A2n/poem-MdBXw3KkXM368dBLHlrMjQ', 'https://www.thivien.net/Khuy%E1%BA%BFt-danh-Vi%E1%BB%87t-Nam/H%E1%BB%B1u-tuy%E1%BB%87t-c%C3%BA/poem-gK67Na65qHE0USOUwbDzzA', 'https://www.thivien.net/Nguy%E1%BB%85n-Gia-Thi%E1%BB%81u/Kh%E1%BB%91i-t%C3%ACnh/poem-_k8PBvVz5_fvuvM_kaZIHw', 'https://www.thivien.net/Nguy%E1%BB%85n-Qu%E1%BB%B3nh/Ph%E1%BA%ADt-say-Thu%E1%BB%B5-Ch%C6%B0%C6%A1ng/poem-BCWjU4gquzYx4rCamUlRKQ']\n",
            "Truy cập https://www.thivien.net/Nguy%E1%BB%85n-Tr%C3%A3i/%C4%90%C3%A0o-hoa-thi-b%C3%A0i-3/poem-Eo8O_bjQV9CSK1xQ2MCw5g\n",
            "Lấy dữ liệu thành công https://www.thivien.net/Nguy%E1%BB%85n-Tr%C3%A3i/%C4%90%C3%A0o-hoa-thi-b%C3%A0i-3/poem-Eo8O_bjQV9CSK1xQ2MCw5g\n",
            "Truy cập https://www.thivien.net/Nguy%E1%BB%85n-Tr%C3%A3i/%C4%90%C3%A0o-hoa-thi-b%C3%A0i-4/poem-mniVeONHoNctrLh3GD5K_Q\n",
            "Lấy dữ liệu thành công https://www.thivien.net/Nguy%E1%BB%85n-Tr%C3%A3i/%C4%90%C3%A0o-hoa-thi-b%C3%A0i-4/poem-mniVeONHoNctrLh3GD5K_Q\n",
            "Truy cập https://www.thivien.net/Nguy%E1%BB%85n-Tr%C3%A3i/%C4%90%C3%A0o-hoa-thi-b%C3%A0i-5/poem-oTUWo08PVWVgk1Z73UFsZg\n",
            "Lấy dữ liệu thành công https://www.thivien.net/Nguy%E1%BB%85n-Tr%C3%A3i/%C4%90%C3%A0o-hoa-thi-b%C3%A0i-5/poem-oTUWo08PVWVgk1Z73UFsZg\n",
            "Truy cập https://www.thivien.net/Nguy%E1%BB%85n-Tr%C3%A3i/%C4%90%C3%A0o-hoa-thi-b%C3%A0i-6/poem-XRqcrciH6L9671B2HFBcfw\n",
            "Lấy dữ liệu thành công https://www.thivien.net/Nguy%E1%BB%85n-Tr%C3%A3i/%C4%90%C3%A0o-hoa-thi-b%C3%A0i-6/poem-XRqcrciH6L9671B2HFBcfw\n",
            "Truy cập https://www.thivien.net/Nguy%E1%BB%85n-Gia-Ch%C3%A2u/%C4%90%E1%BB%81-%E1%BB%9F-c%E1%BB%ADa-Sinh-T%E1%BB%AD/poem-0m57jrjDO0rvGhET6T3zDQ\n",
            "Lấy dữ liệu thành công https://www.thivien.net/Nguy%E1%BB%85n-Gia-Ch%C3%A2u/%C4%90%E1%BB%81-%E1%BB%9F-c%E1%BB%ADa-Sinh-T%E1%BB%AD/poem-0m57jrjDO0rvGhET6T3zDQ\n",
            "Truy cập https://www.thivien.net/Nguy%E1%BB%85n-Tr%C3%A3i/Gh%E1%BA%B9o-c%C3%B4-h%C3%A0ng-chi%E1%BA%BFu/poem-mhKCYVUAIeTrxJ6Ewog4eg\n",
            "Lấy dữ liệu thành công https://www.thivien.net/Nguy%E1%BB%85n-Tr%C3%A3i/Gh%E1%BA%B9o-c%C3%B4-h%C3%A0ng-chi%E1%BA%BFu/poem-mhKCYVUAIeTrxJ6Ewog4eg\n",
            "Truy cập https://www.thivien.net/Nguy%E1%BB%85n-Tr%C3%A3i/Hoa-xu%C3%A2n/poem-MdBXw3KkXM368dBLHlrMjQ\n",
            "Lấy dữ liệu thành công https://www.thivien.net/Nguy%E1%BB%85n-Tr%C3%A3i/Hoa-xu%C3%A2n/poem-MdBXw3KkXM368dBLHlrMjQ\n",
            "Truy cập https://www.thivien.net/Khuy%E1%BA%BFt-danh-Vi%E1%BB%87t-Nam/H%E1%BB%B1u-tuy%E1%BB%87t-c%C3%BA/poem-gK67Na65qHE0USOUwbDzzA\n",
            "Lấy dữ liệu thành công https://www.thivien.net/Khuy%E1%BA%BFt-danh-Vi%E1%BB%87t-Nam/H%E1%BB%B1u-tuy%E1%BB%87t-c%C3%BA/poem-gK67Na65qHE0USOUwbDzzA\n",
            "Truy cập https://www.thivien.net/Nguy%E1%BB%85n-Gia-Thi%E1%BB%81u/Kh%E1%BB%91i-t%C3%ACnh/poem-_k8PBvVz5_fvuvM_kaZIHw\n",
            "Lấy dữ liệu thành công https://www.thivien.net/Nguy%E1%BB%85n-Gia-Thi%E1%BB%81u/Kh%E1%BB%91i-t%C3%ACnh/poem-_k8PBvVz5_fvuvM_kaZIHw\n",
            "Truy cập https://www.thivien.net/Nguy%E1%BB%85n-Qu%E1%BB%B3nh/Ph%E1%BA%ADt-say-Thu%E1%BB%B5-Ch%C6%B0%C6%A1ng/poem-BCWjU4gquzYx4rCamUlRKQ\n"
          ]
        },
        {
          "output_type": "stream",
          "name": "stderr",
          "text": [
            "\r 67%|██████▋   | 2/3 [00:45<00:22, 22.89s/it]"
          ]
        },
        {
          "output_type": "stream",
          "name": "stdout",
          "text": [
            "Lấy dữ liệu thành công https://www.thivien.net/Nguy%E1%BB%85n-Qu%E1%BB%B3nh/Ph%E1%BA%ADt-say-Thu%E1%BB%B5-Ch%C6%B0%C6%A1ng/poem-BCWjU4gquzYx4rCamUlRKQ\n",
            "\n",
            " ['https://www.thivien.net/Tr%E1%BB%8Bnh-S%C3%A2m/Ph%E1%BB%A5ng-canh-ng%E1%BB%B1-ch%E1%BA%BF-th%C6%B0%E1%BB%9Fng-nghinh-xu%C3%A2n-vi%E1%BB%87n-thi/poem-6KT2iT_lEHwFt5NM3tJgSA', 'https://www.thivien.net/%C4%90%E1%BB%97-Th%E1%BA%BF-Giai/Ph%E1%BB%A5ng-ho%E1%BA%A1-ng%E1%BB%B1-ch%E1%BA%BF-t%C3%A2n-xu%C3%A2n/poem-BGSN8YqLn1M2SoufQXK3cQ', 'https://www.thivien.net/Nguy%E1%BB%85n-Qu%E1%BB%B3nh/Th%C6%A1-x%E1%BB%8F-g%C3%A1i-chua-ngoa/poem-KJSJBK9wl_7o3Hh-D0KebQ', 'https://www.thivien.net/%C4%90%E1%BB%97-Th%E1%BA%BF-Giai/Ti%E1%BB%83u-lu%E1%BA%ADt/poem-MW4gjbxV3dzYNIAEVqQmvA', 'https://www.thivien.net/%C4%90%E1%BB%97-Th%E1%BA%BF-Giai/Ti%E1%BB%83u-lu%E1%BA%ADt/poem-CA9_8kPzZb80aWE8Y5iZhw', 'https://www.thivien.net/L%C3%AA-Th%C3%A1nh-T%C3%B4ng/V%E1%BB%8Bnh-con-c%C3%B3c/poem-7fiNjkICzfeK5Ji6ZlZ56g']\n",
            "Truy cập https://www.thivien.net/Tr%E1%BB%8Bnh-S%C3%A2m/Ph%E1%BB%A5ng-canh-ng%E1%BB%B1-ch%E1%BA%BF-th%C6%B0%E1%BB%9Fng-nghinh-xu%C3%A2n-vi%E1%BB%87n-thi/poem-6KT2iT_lEHwFt5NM3tJgSA\n",
            "Lấy dữ liệu thành công https://www.thivien.net/Tr%E1%BB%8Bnh-S%C3%A2m/Ph%E1%BB%A5ng-canh-ng%E1%BB%B1-ch%E1%BA%BF-th%C6%B0%E1%BB%9Fng-nghinh-xu%C3%A2n-vi%E1%BB%87n-thi/poem-6KT2iT_lEHwFt5NM3tJgSA\n",
            "Truy cập https://www.thivien.net/%C4%90%E1%BB%97-Th%E1%BA%BF-Giai/Ph%E1%BB%A5ng-ho%E1%BA%A1-ng%E1%BB%B1-ch%E1%BA%BF-t%C3%A2n-xu%C3%A2n/poem-BGSN8YqLn1M2SoufQXK3cQ\n",
            "Lấy dữ liệu thành công https://www.thivien.net/%C4%90%E1%BB%97-Th%E1%BA%BF-Giai/Ph%E1%BB%A5ng-ho%E1%BA%A1-ng%E1%BB%B1-ch%E1%BA%BF-t%C3%A2n-xu%C3%A2n/poem-BGSN8YqLn1M2SoufQXK3cQ\n",
            "Truy cập https://www.thivien.net/Nguy%E1%BB%85n-Qu%E1%BB%B3nh/Th%C6%A1-x%E1%BB%8F-g%C3%A1i-chua-ngoa/poem-KJSJBK9wl_7o3Hh-D0KebQ\n",
            "Lấy dữ liệu thành công https://www.thivien.net/Nguy%E1%BB%85n-Qu%E1%BB%B3nh/Th%C6%A1-x%E1%BB%8F-g%C3%A1i-chua-ngoa/poem-KJSJBK9wl_7o3Hh-D0KebQ\n",
            "Truy cập https://www.thivien.net/%C4%90%E1%BB%97-Th%E1%BA%BF-Giai/Ti%E1%BB%83u-lu%E1%BA%ADt/poem-MW4gjbxV3dzYNIAEVqQmvA\n",
            "Lấy dữ liệu thành công https://www.thivien.net/%C4%90%E1%BB%97-Th%E1%BA%BF-Giai/Ti%E1%BB%83u-lu%E1%BA%ADt/poem-MW4gjbxV3dzYNIAEVqQmvA\n",
            "Truy cập https://www.thivien.net/%C4%90%E1%BB%97-Th%E1%BA%BF-Giai/Ti%E1%BB%83u-lu%E1%BA%ADt/poem-CA9_8kPzZb80aWE8Y5iZhw\n",
            "Lấy dữ liệu thành công https://www.thivien.net/%C4%90%E1%BB%97-Th%E1%BA%BF-Giai/Ti%E1%BB%83u-lu%E1%BA%ADt/poem-CA9_8kPzZb80aWE8Y5iZhw\n",
            "Truy cập https://www.thivien.net/L%C3%AA-Th%C3%A1nh-T%C3%B4ng/V%E1%BB%8Bnh-con-c%C3%B3c/poem-7fiNjkICzfeK5Ji6ZlZ56g\n"
          ]
        },
        {
          "output_type": "stream",
          "name": "stderr",
          "text": [
            "100%|██████████| 3/3 [00:57<00:00, 19.27s/it]"
          ]
        },
        {
          "output_type": "stream",
          "name": "stdout",
          "text": [
            "Lấy dữ liệu thành công https://www.thivien.net/L%C3%AA-Th%C3%A1nh-T%C3%B4ng/V%E1%BB%8Bnh-con-c%C3%B3c/poem-7fiNjkICzfeK5Ji6ZlZ56g\n"
          ]
        },
        {
          "output_type": "stream",
          "name": "stderr",
          "text": [
            "\n"
          ]
        }
      ],
      "source": [
        "that_ngon_tu_tuyet_1 = crawl_data('https://www.thivien.net/searchpoem.php?PoemType=6&ViewType=1&Country=2&Age[]=55', 1, 3)"
      ]
    },
    {
      "cell_type": "code",
      "execution_count": 5,
      "metadata": {
        "id": "5tj9DRaHkeuy",
        "colab": {
          "base_uri": "https://localhost:8080/"
        },
        "outputId": "a29feeba-ee00-42a3-a7ba-7f6a8addf7b6"
      },
      "outputs": [
        {
          "output_type": "stream",
          "name": "stderr",
          "text": [
            "\r  0%|          | 0/4 [00:00<?, ?it/s]"
          ]
        },
        {
          "output_type": "stream",
          "name": "stdout",
          "text": [
            "\n",
            " ['https://www.thivien.net/Cao-B%C3%A1-Qu%C3%A1t/Quan-ng%C6%A1i/poem-fvGX2ZMxCaMEjcQpSRjL6A', 'https://www.thivien.net/H%E1%BB%93-Xu%C3%A2n-H%C6%B0%C6%A1ng/B%C3%A1nh-tr%C3%B4i-n%C6%B0%E1%BB%9Bc/poem-uWq3KGCd3SUUse06kE6PYA', 'https://www.thivien.net/Phan-Th%C3%BAc-Tr%E1%BB%B1c/Bu%E1%BB%95i-s%C3%A1ng-%C4%91i-thuy%E1%BB%81n-tr%C3%AAn-s%C3%B4ng-M%C3%A3/poem-OERgyTfhZTMrH8mc_a2lYg', 'https://www.thivien.net/H%E1%BB%93-Xu%C3%A2n-H%C6%B0%C6%A1ng/C%C3%A1i-qu%E1%BA%A1t/poem-scROveDf2WzzNJM9eAvSlQ', 'https://www.thivien.net/T%E1%BA%A1-Hi%E1%BB%87n/C%E1%BA%A3m-%C4%91%E1%BB%81/poem-IEhO9vdaYKxBKUMMZ8kMCQ', 'https://www.thivien.net/Nguy%E1%BB%85n-C%C3%B4ng-Tr%E1%BB%A9/C%C3%A1m-%C6%A1n-hai-c%C3%B4-%C4%91%C3%A0o/poem-eikFbHcDEWNk7ziidPzSyg', 'https://www.thivien.net/H%E1%BB%93-Xu%C3%A2n-H%C6%B0%C6%A1ng/Ch%C6%A1i-hoa/poem-jSzm65JZ1S2GD6Vw9RK_6w', 'https://www.thivien.net/H%E1%BB%93-Xu%C3%A2n-H%C6%B0%C6%A1ng/Con-cua/poem-desawxihH_FjwviJgfWqRw', 'https://www.thivien.net/H%E1%BB%93-Xu%C3%A2n-H%C6%B0%C6%A1ng/D%E1%BB%AF-Ph%E1%BA%A1m-t%E1%BA%BF-t%E1%BB%ADu-x%C6%B0%E1%BB%9Bng-ho%E1%BA%A1-k%E1%BB%B3-nh%E1%BB%8B/poem-uhvQQ4xb005il66VwoQrSQ', 'https://www.thivien.net/Nguy%E1%BB%85n-C%C3%B4ng-Tr%E1%BB%A9/%C4%90%C3%A1nh-t%E1%BB%95-t%C3%B4m/poem-o1Dgj5mZFHmPIMkvJm0okw']\n",
            "Truy cập https://www.thivien.net/Cao-B%C3%A1-Qu%C3%A1t/Quan-ng%C6%A1i/poem-fvGX2ZMxCaMEjcQpSRjL6A\n",
            "Lấy dữ liệu thành công https://www.thivien.net/Cao-B%C3%A1-Qu%C3%A1t/Quan-ng%C6%A1i/poem-fvGX2ZMxCaMEjcQpSRjL6A\n",
            "Truy cập https://www.thivien.net/H%E1%BB%93-Xu%C3%A2n-H%C6%B0%C6%A1ng/B%C3%A1nh-tr%C3%B4i-n%C6%B0%E1%BB%9Bc/poem-uWq3KGCd3SUUse06kE6PYA\n",
            "Lấy dữ liệu thành công https://www.thivien.net/H%E1%BB%93-Xu%C3%A2n-H%C6%B0%C6%A1ng/B%C3%A1nh-tr%C3%B4i-n%C6%B0%E1%BB%9Bc/poem-uWq3KGCd3SUUse06kE6PYA\n",
            "Truy cập https://www.thivien.net/Phan-Th%C3%BAc-Tr%E1%BB%B1c/Bu%E1%BB%95i-s%C3%A1ng-%C4%91i-thuy%E1%BB%81n-tr%C3%AAn-s%C3%B4ng-M%C3%A3/poem-OERgyTfhZTMrH8mc_a2lYg\n",
            "Lấy dữ liệu thành công https://www.thivien.net/Phan-Th%C3%BAc-Tr%E1%BB%B1c/Bu%E1%BB%95i-s%C3%A1ng-%C4%91i-thuy%E1%BB%81n-tr%C3%AAn-s%C3%B4ng-M%C3%A3/poem-OERgyTfhZTMrH8mc_a2lYg\n",
            "Truy cập https://www.thivien.net/H%E1%BB%93-Xu%C3%A2n-H%C6%B0%C6%A1ng/C%C3%A1i-qu%E1%BA%A1t/poem-scROveDf2WzzNJM9eAvSlQ\n",
            "Lấy dữ liệu thành công https://www.thivien.net/H%E1%BB%93-Xu%C3%A2n-H%C6%B0%C6%A1ng/C%C3%A1i-qu%E1%BA%A1t/poem-scROveDf2WzzNJM9eAvSlQ\n",
            "Truy cập https://www.thivien.net/T%E1%BA%A1-Hi%E1%BB%87n/C%E1%BA%A3m-%C4%91%E1%BB%81/poem-IEhO9vdaYKxBKUMMZ8kMCQ\n",
            "Lấy dữ liệu thành công https://www.thivien.net/T%E1%BA%A1-Hi%E1%BB%87n/C%E1%BA%A3m-%C4%91%E1%BB%81/poem-IEhO9vdaYKxBKUMMZ8kMCQ\n",
            "Truy cập https://www.thivien.net/Nguy%E1%BB%85n-C%C3%B4ng-Tr%E1%BB%A9/C%C3%A1m-%C6%A1n-hai-c%C3%B4-%C4%91%C3%A0o/poem-eikFbHcDEWNk7ziidPzSyg\n",
            "Lấy dữ liệu thành công https://www.thivien.net/Nguy%E1%BB%85n-C%C3%B4ng-Tr%E1%BB%A9/C%C3%A1m-%C6%A1n-hai-c%C3%B4-%C4%91%C3%A0o/poem-eikFbHcDEWNk7ziidPzSyg\n",
            "Truy cập https://www.thivien.net/H%E1%BB%93-Xu%C3%A2n-H%C6%B0%C6%A1ng/Ch%C6%A1i-hoa/poem-jSzm65JZ1S2GD6Vw9RK_6w\n",
            "Lấy dữ liệu thành công https://www.thivien.net/H%E1%BB%93-Xu%C3%A2n-H%C6%B0%C6%A1ng/Ch%C6%A1i-hoa/poem-jSzm65JZ1S2GD6Vw9RK_6w\n",
            "Truy cập https://www.thivien.net/H%E1%BB%93-Xu%C3%A2n-H%C6%B0%C6%A1ng/Con-cua/poem-desawxihH_FjwviJgfWqRw\n",
            "Lấy dữ liệu thành công https://www.thivien.net/H%E1%BB%93-Xu%C3%A2n-H%C6%B0%C6%A1ng/Con-cua/poem-desawxihH_FjwviJgfWqRw\n",
            "Truy cập https://www.thivien.net/H%E1%BB%93-Xu%C3%A2n-H%C6%B0%C6%A1ng/D%E1%BB%AF-Ph%E1%BA%A1m-t%E1%BA%BF-t%E1%BB%ADu-x%C6%B0%E1%BB%9Bng-ho%E1%BA%A1-k%E1%BB%B3-nh%E1%BB%8B/poem-uhvQQ4xb005il66VwoQrSQ\n",
            "Lấy dữ liệu thành công https://www.thivien.net/H%E1%BB%93-Xu%C3%A2n-H%C6%B0%C6%A1ng/D%E1%BB%AF-Ph%E1%BA%A1m-t%E1%BA%BF-t%E1%BB%ADu-x%C6%B0%E1%BB%9Bng-ho%E1%BA%A1-k%E1%BB%B3-nh%E1%BB%8B/poem-uhvQQ4xb005il66VwoQrSQ\n",
            "Truy cập https://www.thivien.net/Nguy%E1%BB%85n-C%C3%B4ng-Tr%E1%BB%A9/%C4%90%C3%A1nh-t%E1%BB%95-t%C3%B4m/poem-o1Dgj5mZFHmPIMkvJm0okw\n"
          ]
        },
        {
          "output_type": "stream",
          "name": "stderr",
          "text": [
            "\r 25%|██▌       | 1/4 [00:23<01:11, 23.74s/it]"
          ]
        },
        {
          "output_type": "stream",
          "name": "stdout",
          "text": [
            "Lấy dữ liệu thành công https://www.thivien.net/Nguy%E1%BB%85n-C%C3%B4ng-Tr%E1%BB%A9/%C4%90%C3%A1nh-t%E1%BB%95-t%C3%B4m/poem-o1Dgj5mZFHmPIMkvJm0okw\n",
            "\n",
            " ['https://www.thivien.net/Cao-B%C3%A1-Qu%C3%A1t/%C4%90%E1%BA%AFp-voi/poem-LNX-B6YEnTxrHdNh6Rwzhg', 'https://www.thivien.net/H%E1%BB%93-Xu%C3%A2n-H%C6%B0%C6%A1ng/%C4%90%E1%BB%8Dc-cho-Chi%C3%AAu-H%E1%BB%95-ho%E1%BA%A1/poem-YXI6cVrwCfbMi8IDswKjhQ', 'https://www.thivien.net/H%E1%BB%93-Xu%C3%A2n-H%C6%B0%C6%A1ng/%C4%90%E1%BB%93ng-ti%E1%BB%81n-ho%E1%BA%BBn/poem-UZ4PJ0gdsEsSl_pypy8vGw', 'https://www.thivien.net/Nguy%E1%BB%85n-C%C3%B4ng-Tr%E1%BB%A9/%C4%90%E1%BB%9Di-ng%C6%B0%E1%BB%9Di-th%E1%BA%A5m-tho%E1%BA%AFt/poem-dpoG8f6cGqypGv740YMB1g', 'https://www.thivien.net/H%E1%BB%93-Xu%C3%A2n-H%C6%B0%C6%A1ng/Kh%C3%B3c-T%E1%BB%95ng-C%C3%B3c/poem-6pamu7FlLkIevS5S6C9yfw', 'https://www.thivien.net/H%E1%BB%93-Xu%C3%A2n-H%C6%B0%C6%A1ng/L%E1%BB%A1m-h%E1%BB%8Dc-tr%C3%B2/poem-0rhDlwzvK5OxEIc98gs0mw', 'https://www.thivien.net/H%E1%BB%93-Xu%C3%A2n-H%C6%B0%C6%A1ng/Mi%E1%BA%BFu-S%E1%BA%A7m-th%C3%A1i-th%C3%BA/poem-G2YFC9t0UZjKbogh03b5Ow', 'https://www.thivien.net/H%E1%BB%93-Xu%C3%A2n-H%C6%B0%C6%A1ng/M%E1%BB%9Di-%C4%83n-tr%E1%BA%A7u/poem-B_rQPN05zgTCyWbt_qAhmQ', 'https://www.thivien.net/Nguy%E1%BB%85n-Qu%C3%BD-T%C3%A2n/M%E1%BB%ABng-b%E1%BA%A1n-%C4%91%E1%BA%BB-con-trai/poem-2Vr1ehilpWqqXZJSdcMIBg', 'https://www.thivien.net/H%E1%BB%93-Xu%C3%A2n-H%C6%B0%C6%A1ng/N%C3%BAi-K%E1%BA%BDm-Tr%E1%BB%91ng/poem-feCLUxz53X41QOuf4SwK2A']\n",
            "Truy cập https://www.thivien.net/Cao-B%C3%A1-Qu%C3%A1t/%C4%90%E1%BA%AFp-voi/poem-LNX-B6YEnTxrHdNh6Rwzhg\n",
            "Lấy dữ liệu thành công https://www.thivien.net/Cao-B%C3%A1-Qu%C3%A1t/%C4%90%E1%BA%AFp-voi/poem-LNX-B6YEnTxrHdNh6Rwzhg\n",
            "Truy cập https://www.thivien.net/H%E1%BB%93-Xu%C3%A2n-H%C6%B0%C6%A1ng/%C4%90%E1%BB%8Dc-cho-Chi%C3%AAu-H%E1%BB%95-ho%E1%BA%A1/poem-YXI6cVrwCfbMi8IDswKjhQ\n",
            "Lấy dữ liệu thành công https://www.thivien.net/H%E1%BB%93-Xu%C3%A2n-H%C6%B0%C6%A1ng/%C4%90%E1%BB%8Dc-cho-Chi%C3%AAu-H%E1%BB%95-ho%E1%BA%A1/poem-YXI6cVrwCfbMi8IDswKjhQ\n",
            "Truy cập https://www.thivien.net/H%E1%BB%93-Xu%C3%A2n-H%C6%B0%C6%A1ng/%C4%90%E1%BB%93ng-ti%E1%BB%81n-ho%E1%BA%BBn/poem-UZ4PJ0gdsEsSl_pypy8vGw\n",
            "Lấy dữ liệu thành công https://www.thivien.net/H%E1%BB%93-Xu%C3%A2n-H%C6%B0%C6%A1ng/%C4%90%E1%BB%93ng-ti%E1%BB%81n-ho%E1%BA%BBn/poem-UZ4PJ0gdsEsSl_pypy8vGw\n",
            "Truy cập https://www.thivien.net/Nguy%E1%BB%85n-C%C3%B4ng-Tr%E1%BB%A9/%C4%90%E1%BB%9Di-ng%C6%B0%E1%BB%9Di-th%E1%BA%A5m-tho%E1%BA%AFt/poem-dpoG8f6cGqypGv740YMB1g\n",
            "Lấy dữ liệu thành công https://www.thivien.net/Nguy%E1%BB%85n-C%C3%B4ng-Tr%E1%BB%A9/%C4%90%E1%BB%9Di-ng%C6%B0%E1%BB%9Di-th%E1%BA%A5m-tho%E1%BA%AFt/poem-dpoG8f6cGqypGv740YMB1g\n",
            "Truy cập https://www.thivien.net/H%E1%BB%93-Xu%C3%A2n-H%C6%B0%C6%A1ng/Kh%C3%B3c-T%E1%BB%95ng-C%C3%B3c/poem-6pamu7FlLkIevS5S6C9yfw\n",
            "Lấy dữ liệu thành công https://www.thivien.net/H%E1%BB%93-Xu%C3%A2n-H%C6%B0%C6%A1ng/Kh%C3%B3c-T%E1%BB%95ng-C%C3%B3c/poem-6pamu7FlLkIevS5S6C9yfw\n",
            "Truy cập https://www.thivien.net/H%E1%BB%93-Xu%C3%A2n-H%C6%B0%C6%A1ng/L%E1%BB%A1m-h%E1%BB%8Dc-tr%C3%B2/poem-0rhDlwzvK5OxEIc98gs0mw\n",
            "Lấy dữ liệu thành công https://www.thivien.net/H%E1%BB%93-Xu%C3%A2n-H%C6%B0%C6%A1ng/L%E1%BB%A1m-h%E1%BB%8Dc-tr%C3%B2/poem-0rhDlwzvK5OxEIc98gs0mw\n",
            "Truy cập https://www.thivien.net/H%E1%BB%93-Xu%C3%A2n-H%C6%B0%C6%A1ng/Mi%E1%BA%BFu-S%E1%BA%A7m-th%C3%A1i-th%C3%BA/poem-G2YFC9t0UZjKbogh03b5Ow\n",
            "Lấy dữ liệu thành công https://www.thivien.net/H%E1%BB%93-Xu%C3%A2n-H%C6%B0%C6%A1ng/Mi%E1%BA%BFu-S%E1%BA%A7m-th%C3%A1i-th%C3%BA/poem-G2YFC9t0UZjKbogh03b5Ow\n",
            "Truy cập https://www.thivien.net/H%E1%BB%93-Xu%C3%A2n-H%C6%B0%C6%A1ng/M%E1%BB%9Di-%C4%83n-tr%E1%BA%A7u/poem-B_rQPN05zgTCyWbt_qAhmQ\n",
            "Lấy dữ liệu thành công https://www.thivien.net/H%E1%BB%93-Xu%C3%A2n-H%C6%B0%C6%A1ng/M%E1%BB%9Di-%C4%83n-tr%E1%BA%A7u/poem-B_rQPN05zgTCyWbt_qAhmQ\n",
            "Truy cập https://www.thivien.net/Nguy%E1%BB%85n-Qu%C3%BD-T%C3%A2n/M%E1%BB%ABng-b%E1%BA%A1n-%C4%91%E1%BA%BB-con-trai/poem-2Vr1ehilpWqqXZJSdcMIBg\n",
            "Lấy dữ liệu thành công https://www.thivien.net/Nguy%E1%BB%85n-Qu%C3%BD-T%C3%A2n/M%E1%BB%ABng-b%E1%BA%A1n-%C4%91%E1%BA%BB-con-trai/poem-2Vr1ehilpWqqXZJSdcMIBg\n",
            "Truy cập https://www.thivien.net/H%E1%BB%93-Xu%C3%A2n-H%C6%B0%C6%A1ng/N%C3%BAi-K%E1%BA%BDm-Tr%E1%BB%91ng/poem-feCLUxz53X41QOuf4SwK2A\n"
          ]
        },
        {
          "output_type": "stream",
          "name": "stderr",
          "text": [
            "\r 50%|█████     | 2/4 [00:42<00:41, 20.75s/it]"
          ]
        },
        {
          "output_type": "stream",
          "name": "stdout",
          "text": [
            "Lấy dữ liệu thành công https://www.thivien.net/H%E1%BB%93-Xu%C3%A2n-H%C6%B0%C6%A1ng/N%C3%BAi-K%E1%BA%BDm-Tr%E1%BB%91ng/poem-feCLUxz53X41QOuf4SwK2A\n",
            "\n",
            " ['https://www.thivien.net/H%E1%BB%93-Xu%C3%A2n-H%C6%B0%C6%A1ng/N%C6%B0%E1%BB%9Bc-%C4%90%E1%BA%B1ng/poem--fDjA9dpven1ybYhX9MM0w', 'https://www.thivien.net/H%E1%BB%93-Xu%C3%A2n-H%C6%B0%C6%A1ng/%E1%BB%90c-nh%E1%BB%93i/poem-gDMeCDBVvtYDv6KKqbVyBw', 'https://www.thivien.net/H%E1%BB%93-Xu%C3%A2n-H%C6%B0%C6%A1ng/Qu%E1%BA%A3-m%C3%ADt/poem-LieX1fygdE0jurQxV_C4rQ', 'https://www.thivien.net/Phan-Thanh-Gi%E1%BA%A3n/Qua-r%E1%BB%ABng-v%E1%BA%AFng/poem-PqYCTCphR7mB4hU6Y-hEjw', 'https://www.thivien.net/H%E1%BB%93-Xu%C3%A2n-H%C6%B0%C6%A1ng/S%C6%B0-ho%E1%BA%A1nh-d%C3%A2m/poem-FW5cbM0YaktMhTajssd9GQ', 'https://www.thivien.net/Nguy%E1%BB%85n-C%C3%B4ng-Tr%E1%BB%A9/Th%C6%A1-%C4%91%E1%BB%81-mo-cau/poem-8SHK80U9f93nzUXM1iZDVA', 'https://www.thivien.net/Ho%C3%A0ng-Phan-Th%C3%A1i/Th%C6%A1-tuy%E1%BB%87t-m%E1%BB%87nh/poem-SSg0YSXZGCzypeIC1UN9Xg', 'https://www.thivien.net/Nguy%E1%BB%85n-C%C3%B4ng-Tr%E1%BB%A9/Thua-b%E1%BA%A1c/poem-QhCH6XjeJ5xQeetef7QrJg', 'https://www.thivien.net/H%E1%BB%93-Xu%C3%A2n-H%C6%B0%C6%A1ng/Ti%E1%BB%85n-ng%C6%B0%E1%BB%9Di-l%C3%A0m-th%C6%A1/poem-lErA4VPPGZZzwxtMXbsYZQ', 'https://www.thivien.net/H%E1%BB%93-Xu%C3%A2n-H%C6%B0%C6%A1ng/Tr%C3%A1ch-Chi%C3%AAu-H%E1%BB%95/poem-PevYJ4ZQTa8nQsmeM0lQIQ']\n",
            "Truy cập https://www.thivien.net/H%E1%BB%93-Xu%C3%A2n-H%C6%B0%C6%A1ng/N%C6%B0%E1%BB%9Bc-%C4%90%E1%BA%B1ng/poem--fDjA9dpven1ybYhX9MM0w\n",
            "Lấy dữ liệu thành công https://www.thivien.net/H%E1%BB%93-Xu%C3%A2n-H%C6%B0%C6%A1ng/N%C6%B0%E1%BB%9Bc-%C4%90%E1%BA%B1ng/poem--fDjA9dpven1ybYhX9MM0w\n",
            "Truy cập https://www.thivien.net/H%E1%BB%93-Xu%C3%A2n-H%C6%B0%C6%A1ng/%E1%BB%90c-nh%E1%BB%93i/poem-gDMeCDBVvtYDv6KKqbVyBw\n",
            "Lấy dữ liệu thành công https://www.thivien.net/H%E1%BB%93-Xu%C3%A2n-H%C6%B0%C6%A1ng/%E1%BB%90c-nh%E1%BB%93i/poem-gDMeCDBVvtYDv6KKqbVyBw\n",
            "Truy cập https://www.thivien.net/H%E1%BB%93-Xu%C3%A2n-H%C6%B0%C6%A1ng/Qu%E1%BA%A3-m%C3%ADt/poem-LieX1fygdE0jurQxV_C4rQ\n",
            "Lấy dữ liệu thành công https://www.thivien.net/H%E1%BB%93-Xu%C3%A2n-H%C6%B0%C6%A1ng/Qu%E1%BA%A3-m%C3%ADt/poem-LieX1fygdE0jurQxV_C4rQ\n",
            "Truy cập https://www.thivien.net/Phan-Thanh-Gi%E1%BA%A3n/Qua-r%E1%BB%ABng-v%E1%BA%AFng/poem-PqYCTCphR7mB4hU6Y-hEjw\n",
            "Lấy dữ liệu thành công https://www.thivien.net/Phan-Thanh-Gi%E1%BA%A3n/Qua-r%E1%BB%ABng-v%E1%BA%AFng/poem-PqYCTCphR7mB4hU6Y-hEjw\n",
            "Truy cập https://www.thivien.net/H%E1%BB%93-Xu%C3%A2n-H%C6%B0%C6%A1ng/S%C6%B0-ho%E1%BA%A1nh-d%C3%A2m/poem-FW5cbM0YaktMhTajssd9GQ\n",
            "Lấy dữ liệu thành công https://www.thivien.net/H%E1%BB%93-Xu%C3%A2n-H%C6%B0%C6%A1ng/S%C6%B0-ho%E1%BA%A1nh-d%C3%A2m/poem-FW5cbM0YaktMhTajssd9GQ\n",
            "Truy cập https://www.thivien.net/Nguy%E1%BB%85n-C%C3%B4ng-Tr%E1%BB%A9/Th%C6%A1-%C4%91%E1%BB%81-mo-cau/poem-8SHK80U9f93nzUXM1iZDVA\n",
            "Lấy dữ liệu thành công https://www.thivien.net/Nguy%E1%BB%85n-C%C3%B4ng-Tr%E1%BB%A9/Th%C6%A1-%C4%91%E1%BB%81-mo-cau/poem-8SHK80U9f93nzUXM1iZDVA\n",
            "Truy cập https://www.thivien.net/Ho%C3%A0ng-Phan-Th%C3%A1i/Th%C6%A1-tuy%E1%BB%87t-m%E1%BB%87nh/poem-SSg0YSXZGCzypeIC1UN9Xg\n",
            "Lấy dữ liệu thành công https://www.thivien.net/Ho%C3%A0ng-Phan-Th%C3%A1i/Th%C6%A1-tuy%E1%BB%87t-m%E1%BB%87nh/poem-SSg0YSXZGCzypeIC1UN9Xg\n",
            "Truy cập https://www.thivien.net/Nguy%E1%BB%85n-C%C3%B4ng-Tr%E1%BB%A9/Thua-b%E1%BA%A1c/poem-QhCH6XjeJ5xQeetef7QrJg\n",
            "Lấy dữ liệu thành công https://www.thivien.net/Nguy%E1%BB%85n-C%C3%B4ng-Tr%E1%BB%A9/Thua-b%E1%BA%A1c/poem-QhCH6XjeJ5xQeetef7QrJg\n",
            "Truy cập https://www.thivien.net/H%E1%BB%93-Xu%C3%A2n-H%C6%B0%C6%A1ng/Ti%E1%BB%85n-ng%C6%B0%E1%BB%9Di-l%C3%A0m-th%C6%A1/poem-lErA4VPPGZZzwxtMXbsYZQ\n",
            "Lấy dữ liệu thành công https://www.thivien.net/H%E1%BB%93-Xu%C3%A2n-H%C6%B0%C6%A1ng/Ti%E1%BB%85n-ng%C6%B0%E1%BB%9Di-l%C3%A0m-th%C6%A1/poem-lErA4VPPGZZzwxtMXbsYZQ\n",
            "Truy cập https://www.thivien.net/H%E1%BB%93-Xu%C3%A2n-H%C6%B0%C6%A1ng/Tr%C3%A1ch-Chi%C3%AAu-H%E1%BB%95/poem-PevYJ4ZQTa8nQsmeM0lQIQ\n"
          ]
        },
        {
          "output_type": "stream",
          "name": "stderr",
          "text": [
            "\r 75%|███████▌  | 3/4 [01:01<00:19, 19.96s/it]"
          ]
        },
        {
          "output_type": "stream",
          "name": "stdout",
          "text": [
            "Lấy dữ liệu thành công https://www.thivien.net/H%E1%BB%93-Xu%C3%A2n-H%C6%B0%C6%A1ng/Tr%C3%A1ch-Chi%C3%AAu-H%E1%BB%95/poem-PevYJ4ZQTa8nQsmeM0lQIQ\n",
            "\n",
            " ['https://www.thivien.net/H%E1%BB%93-Xu%C3%A2n-H%C6%B0%C6%A1ng/Tr%C3%A0o-t%C4%83ng/poem-HGACRiPNptGsfdAvpuEO5A', 'https://www.thivien.net/Phan-Thanh-Gi%E1%BA%A3n/T%E1%BB%AB-bi%E1%BB%87t-phu-nh%C3%A2n/poem-cpdmgK3J0elLYWFe0UDQ-g', 'https://www.thivien.net/Phan-Thanh-Gi%E1%BA%A3n/T%E1%BB%B1-th%C3%A1n/poem-Jpb59qOl31NUFMyM4vMX7w', 'https://www.thivien.net/H%E1%BB%93-Xu%C3%A2n-H%C6%B0%C6%A1ng/T%E1%BB%A9c-s%E1%BB%B1/poem-O1uqLz4V2A1a4Bo4nvqG9A', 'https://www.thivien.net/Nguy%E1%BB%85n-Qu%C3%BD-T%C3%A2n/V%E1%BB%8Bnh-chim-b%E1%BB%93-c%C3%A2u/poem-VSl8M4IOaOF7L79JsbX-kA', 'https://www.thivien.net/Nguy%E1%BB%85n-Qu%C3%BD-T%C3%A2n/V%E1%BB%8Bnh-%C4%91%C3%A8n-k%C3%A9o-qu%C3%A2n/poem-EFXZg0ro2J6o4zvRSteB1w', 'https://www.thivien.net/Chu-M%E1%BA%A1nh-Trinh/V%E1%BB%8Bnh-hoa-thu%E1%BB%B7-ti%C3%AAn/poem-j3Y-sGVhlTnyEqUhDTO8rA', 'https://www.thivien.net/Nguy%E1%BB%85n-C%C3%B4ng-Tr%E1%BB%A9/V%E1%BB%8Bnh-tr%C3%B2-leo-d%C3%A2y/poem-CkazKy4rzMMmBT5w5tQSVw']\n",
            "Truy cập https://www.thivien.net/H%E1%BB%93-Xu%C3%A2n-H%C6%B0%C6%A1ng/Tr%C3%A0o-t%C4%83ng/poem-HGACRiPNptGsfdAvpuEO5A\n",
            "Lấy dữ liệu thành công https://www.thivien.net/H%E1%BB%93-Xu%C3%A2n-H%C6%B0%C6%A1ng/Tr%C3%A0o-t%C4%83ng/poem-HGACRiPNptGsfdAvpuEO5A\n",
            "Truy cập https://www.thivien.net/Phan-Thanh-Gi%E1%BA%A3n/T%E1%BB%AB-bi%E1%BB%87t-phu-nh%C3%A2n/poem-cpdmgK3J0elLYWFe0UDQ-g\n",
            "Lấy dữ liệu thành công https://www.thivien.net/Phan-Thanh-Gi%E1%BA%A3n/T%E1%BB%AB-bi%E1%BB%87t-phu-nh%C3%A2n/poem-cpdmgK3J0elLYWFe0UDQ-g\n",
            "Truy cập https://www.thivien.net/Phan-Thanh-Gi%E1%BA%A3n/T%E1%BB%B1-th%C3%A1n/poem-Jpb59qOl31NUFMyM4vMX7w\n",
            "Lấy dữ liệu thành công https://www.thivien.net/Phan-Thanh-Gi%E1%BA%A3n/T%E1%BB%B1-th%C3%A1n/poem-Jpb59qOl31NUFMyM4vMX7w\n",
            "Truy cập https://www.thivien.net/H%E1%BB%93-Xu%C3%A2n-H%C6%B0%C6%A1ng/T%E1%BB%A9c-s%E1%BB%B1/poem-O1uqLz4V2A1a4Bo4nvqG9A\n",
            "Lỗi truy cập link https://www.thivien.net/H%E1%BB%93-Xu%C3%A2n-H%C6%B0%C6%A1ng/T%E1%BB%A9c-s%E1%BB%B1/poem-O1uqLz4V2A1a4Bo4nvqG9A\n",
            "Truy cập https://www.thivien.net/Nguy%E1%BB%85n-Qu%C3%BD-T%C3%A2n/V%E1%BB%8Bnh-chim-b%E1%BB%93-c%C3%A2u/poem-VSl8M4IOaOF7L79JsbX-kA\n",
            "Lấy dữ liệu thành công https://www.thivien.net/Nguy%E1%BB%85n-Qu%C3%BD-T%C3%A2n/V%E1%BB%8Bnh-chim-b%E1%BB%93-c%C3%A2u/poem-VSl8M4IOaOF7L79JsbX-kA\n",
            "Truy cập https://www.thivien.net/Nguy%E1%BB%85n-Qu%C3%BD-T%C3%A2n/V%E1%BB%8Bnh-%C4%91%C3%A8n-k%C3%A9o-qu%C3%A2n/poem-EFXZg0ro2J6o4zvRSteB1w\n",
            "Lấy dữ liệu thành công https://www.thivien.net/Nguy%E1%BB%85n-Qu%C3%BD-T%C3%A2n/V%E1%BB%8Bnh-%C4%91%C3%A8n-k%C3%A9o-qu%C3%A2n/poem-EFXZg0ro2J6o4zvRSteB1w\n",
            "Truy cập https://www.thivien.net/Chu-M%E1%BA%A1nh-Trinh/V%E1%BB%8Bnh-hoa-thu%E1%BB%B7-ti%C3%AAn/poem-j3Y-sGVhlTnyEqUhDTO8rA\n",
            "Lấy dữ liệu thành công https://www.thivien.net/Chu-M%E1%BA%A1nh-Trinh/V%E1%BB%8Bnh-hoa-thu%E1%BB%B7-ti%C3%AAn/poem-j3Y-sGVhlTnyEqUhDTO8rA\n",
            "Truy cập https://www.thivien.net/Nguy%E1%BB%85n-C%C3%B4ng-Tr%E1%BB%A9/V%E1%BB%8Bnh-tr%C3%B2-leo-d%C3%A2y/poem-CkazKy4rzMMmBT5w5tQSVw\n"
          ]
        },
        {
          "output_type": "stream",
          "name": "stderr",
          "text": [
            "100%|██████████| 4/4 [01:27<00:00, 21.83s/it]"
          ]
        },
        {
          "output_type": "stream",
          "name": "stdout",
          "text": [
            "Lấy dữ liệu thành công https://www.thivien.net/Nguy%E1%BB%85n-C%C3%B4ng-Tr%E1%BB%A9/V%E1%BB%8Bnh-tr%C3%B2-leo-d%C3%A2y/poem-CkazKy4rzMMmBT5w5tQSVw\n"
          ]
        },
        {
          "output_type": "stream",
          "name": "stderr",
          "text": [
            "\n"
          ]
        }
      ],
      "source": [
        "that_ngon_tu_tuyet_2 = crawl_data('https://www.thivien.net/searchpoem.php?PoemType=6&ViewType=1&Country=2&Age[]=57', 1, 4)"
      ]
    },
    {
      "cell_type": "code",
      "execution_count": 5,
      "metadata": {
        "colab": {
          "base_uri": "https://localhost:8080/"
        },
        "id": "wriRQcyFq_6N",
        "outputId": "c87e34b0-950c-4e15-92e1-06eb804d56cb"
      },
      "outputs": [
        {
          "output_type": "stream",
          "name": "stderr",
          "text": [
            "\r  0%|          | 0/1 [00:00<?, ?it/s]"
          ]
        },
        {
          "output_type": "stream",
          "name": "stdout",
          "text": [
            "\n",
            " ['https://www.thivien.net/Tr%E1%BA%A7n-T%E1%BA%BF-X%C6%B0%C6%A1ng/O%C3%A1n-Ki%E1%BB%81u/poem-na-5iB1T5lQNFvXSNTxOIQ', 'https://www.thivien.net/Tr%E1%BA%A7n-T%E1%BA%BF-X%C6%B0%C6%A1ng/%C3%94ng-H%C3%A0n/poem-Eeo4cvNjsEAcaCN1pv7UAQ', 'https://www.thivien.net/Nguy%E1%BB%85n-Khuy%E1%BA%BFn/%C3%94ng-ph%E1%BB%97ng-%C4%91%C3%A1-b%C3%A0i-1/poem-wKJv1CZbWt0UhuCagXrD5w', 'https://www.thivien.net/Tr%E1%BA%A7n-T%E1%BA%BF-X%C6%B0%C6%A1ng/%C3%94ng-ti%E1%BA%BFn-s%C4%A9-m%E1%BB%9Bi/poem-1_NWurOu4ZLVJr7MENUZMA', 'https://www.thivien.net/Tr%E1%BA%A7n-T%E1%BA%BF-X%C6%B0%C6%A1ng/Ph%E1%BB%91-H%C3%A0ng-Song/poem-Q-z2Y0x2ZSv3u8XUD6QP6Q', 'https://www.thivien.net/Tr%E1%BA%A7n-T%E1%BA%BF-X%C6%B0%C6%A1ng/Ph%C6%B0%E1%BB%9Dng-h%C3%A1t-tu%E1%BB%93ng/poem-i1kzARIBOU7YlwpIVn6LQw', 'https://www.thivien.net/Hu%E1%BB%B3nh-Th%C3%BAc-Kh%C3%A1ng/Quanh-kho%C3%A1-b%E1%BA%A7u-c%E1%BB%AD-d%C3%A2n-bi%E1%BB%83u/poem-UPTrXiwS68U1GbPdh86fUw', 'https://www.thivien.net/Tr%E1%BA%A7n-T%E1%BA%BF-X%C6%B0%C6%A1ng/S%C6%B0-%E1%BB%9F-t%C3%B9/poem-7B7OMvO_Bz0rmWcTnngxgQ', 'https://www.thivien.net/Phan-B%E1%BB%99i-Ch%C3%A2u/T%E1%BA%B7ng-thanh-ni%C3%AAn/poem-pIqtku4BupdKo0ldQ3dCfQ', 'https://www.thivien.net/T%E1%BA%A3n-%C4%90%C3%A0/T%E1%BA%BFt-t%E1%BB%B1-thu%E1%BA%ADt/poem-ZLpgO8yEcxByY08XKfYmfA']\n",
            "Truy cập https://www.thivien.net/Tr%E1%BA%A7n-T%E1%BA%BF-X%C6%B0%C6%A1ng/O%C3%A1n-Ki%E1%BB%81u/poem-na-5iB1T5lQNFvXSNTxOIQ\n",
            "Lấy dữ liệu thành công https://www.thivien.net/Tr%E1%BA%A7n-T%E1%BA%BF-X%C6%B0%C6%A1ng/O%C3%A1n-Ki%E1%BB%81u/poem-na-5iB1T5lQNFvXSNTxOIQ\n",
            "Truy cập https://www.thivien.net/Tr%E1%BA%A7n-T%E1%BA%BF-X%C6%B0%C6%A1ng/%C3%94ng-H%C3%A0n/poem-Eeo4cvNjsEAcaCN1pv7UAQ\n",
            "Lấy dữ liệu thành công https://www.thivien.net/Tr%E1%BA%A7n-T%E1%BA%BF-X%C6%B0%C6%A1ng/%C3%94ng-H%C3%A0n/poem-Eeo4cvNjsEAcaCN1pv7UAQ\n",
            "Truy cập https://www.thivien.net/Nguy%E1%BB%85n-Khuy%E1%BA%BFn/%C3%94ng-ph%E1%BB%97ng-%C4%91%C3%A1-b%C3%A0i-1/poem-wKJv1CZbWt0UhuCagXrD5w\n",
            "Lấy dữ liệu thành công https://www.thivien.net/Nguy%E1%BB%85n-Khuy%E1%BA%BFn/%C3%94ng-ph%E1%BB%97ng-%C4%91%C3%A1-b%C3%A0i-1/poem-wKJv1CZbWt0UhuCagXrD5w\n",
            "Truy cập https://www.thivien.net/Tr%E1%BA%A7n-T%E1%BA%BF-X%C6%B0%C6%A1ng/%C3%94ng-ti%E1%BA%BFn-s%C4%A9-m%E1%BB%9Bi/poem-1_NWurOu4ZLVJr7MENUZMA\n",
            "Lấy dữ liệu thành công https://www.thivien.net/Tr%E1%BA%A7n-T%E1%BA%BF-X%C6%B0%C6%A1ng/%C3%94ng-ti%E1%BA%BFn-s%C4%A9-m%E1%BB%9Bi/poem-1_NWurOu4ZLVJr7MENUZMA\n",
            "Truy cập https://www.thivien.net/Tr%E1%BA%A7n-T%E1%BA%BF-X%C6%B0%C6%A1ng/Ph%E1%BB%91-H%C3%A0ng-Song/poem-Q-z2Y0x2ZSv3u8XUD6QP6Q\n",
            "Lấy dữ liệu thành công https://www.thivien.net/Tr%E1%BA%A7n-T%E1%BA%BF-X%C6%B0%C6%A1ng/Ph%E1%BB%91-H%C3%A0ng-Song/poem-Q-z2Y0x2ZSv3u8XUD6QP6Q\n",
            "Truy cập https://www.thivien.net/Tr%E1%BA%A7n-T%E1%BA%BF-X%C6%B0%C6%A1ng/Ph%C6%B0%E1%BB%9Dng-h%C3%A1t-tu%E1%BB%93ng/poem-i1kzARIBOU7YlwpIVn6LQw\n",
            "Lấy dữ liệu thành công https://www.thivien.net/Tr%E1%BA%A7n-T%E1%BA%BF-X%C6%B0%C6%A1ng/Ph%C6%B0%E1%BB%9Dng-h%C3%A1t-tu%E1%BB%93ng/poem-i1kzARIBOU7YlwpIVn6LQw\n",
            "Truy cập https://www.thivien.net/Hu%E1%BB%B3nh-Th%C3%BAc-Kh%C3%A1ng/Quanh-kho%C3%A1-b%E1%BA%A7u-c%E1%BB%AD-d%C3%A2n-bi%E1%BB%83u/poem-UPTrXiwS68U1GbPdh86fUw\n",
            "Lấy dữ liệu thành công https://www.thivien.net/Hu%E1%BB%B3nh-Th%C3%BAc-Kh%C3%A1ng/Quanh-kho%C3%A1-b%E1%BA%A7u-c%E1%BB%AD-d%C3%A2n-bi%E1%BB%83u/poem-UPTrXiwS68U1GbPdh86fUw\n",
            "Truy cập https://www.thivien.net/Tr%E1%BA%A7n-T%E1%BA%BF-X%C6%B0%C6%A1ng/S%C6%B0-%E1%BB%9F-t%C3%B9/poem-7B7OMvO_Bz0rmWcTnngxgQ\n",
            "Lấy dữ liệu thành công https://www.thivien.net/Tr%E1%BA%A7n-T%E1%BA%BF-X%C6%B0%C6%A1ng/S%C6%B0-%E1%BB%9F-t%C3%B9/poem-7B7OMvO_Bz0rmWcTnngxgQ\n",
            "Truy cập https://www.thivien.net/Phan-B%E1%BB%99i-Ch%C3%A2u/T%E1%BA%B7ng-thanh-ni%C3%AAn/poem-pIqtku4BupdKo0ldQ3dCfQ\n",
            "Lấy dữ liệu thành công https://www.thivien.net/Phan-B%E1%BB%99i-Ch%C3%A2u/T%E1%BA%B7ng-thanh-ni%C3%AAn/poem-pIqtku4BupdKo0ldQ3dCfQ\n",
            "Truy cập https://www.thivien.net/T%E1%BA%A3n-%C4%90%C3%A0/T%E1%BA%BFt-t%E1%BB%B1-thu%E1%BA%ADt/poem-ZLpgO8yEcxByY08XKfYmfA\n"
          ]
        },
        {
          "output_type": "stream",
          "name": "stderr",
          "text": [
            "100%|██████████| 1/1 [00:39<00:00, 39.22s/it]"
          ]
        },
        {
          "output_type": "stream",
          "name": "stdout",
          "text": [
            "Lấy dữ liệu thành công https://www.thivien.net/T%E1%BA%A3n-%C4%90%C3%A0/T%E1%BA%BFt-t%E1%BB%B1-thu%E1%BA%ADt/poem-ZLpgO8yEcxByY08XKfYmfA\n"
          ]
        },
        {
          "output_type": "stream",
          "name": "stderr",
          "text": [
            "\n"
          ]
        }
      ],
      "source": [
        "that_ngon_tu_tuyet_3 = crawl_data('https://www.thivien.net/searchpoem.php?PoemType=6&ViewType=1&Country=2&Age[]=2', 10, 10)"
      ]
    },
    {
      "cell_type": "code",
      "execution_count": 5,
      "metadata": {
        "id": "wYLJv4JVrIzZ",
        "colab": {
          "base_uri": "https://localhost:8080/"
        },
        "outputId": "5cb54112-062a-4f4e-9976-34f4da53d519"
      },
      "outputs": [
        {
          "output_type": "stream",
          "name": "stderr",
          "text": [
            "\r  0%|          | 0/4 [00:00<?, ?it/s]"
          ]
        },
        {
          "output_type": "stream",
          "name": "stdout",
          "text": [
            "\n",
            " ['https://www.thivien.net/H%E1%BB%93-Ch%C3%AD-Minh/B%E1%BA%A5y-l%C3%A2u-m%C6%A1-ng%E1%BB%A7-m%C3%A3i-ch%C6%B0a-th%C3%B4i/poem-6SyVQPu-Ye7BMDLIQ8Izuw', 'https://www.thivien.net/H%C3%A0n-Qu%E1%BB%91c-V%C5%A9/B%C3%A9n-r%E1%BB%85/poem-LuwlmC0F-qI06fZeHjRq8A', 'https://www.thivien.net/M%E1%BB%99ng-Tuy%E1%BA%BFt/B%C3%A8o-n%C6%B0%E1%BB%9Bc-t%C6%B0%C6%A1ng-t%C6%B0/poem-CbTBwxAdOr0ApCHRt77ACA', 'https://www.thivien.net/Qu%C3%A1ch-T%E1%BA%A5n/B%E1%BA%BFn-c%C5%A9/poem-y_VkGyKMEf3m9TdFogEVww', 'https://www.thivien.net/Qu%C3%A1ch-T%E1%BA%A5n/B%C3%AAn-g%C3%A1c-m%E1%BB%99ng/poem--ljRyPbqGTPiPV9K1IsANA', 'https://www.thivien.net/J-Leiba/B%E1%BA%BFn-gi%C3%A1c/poem-OktUaBmCXzBLGYk5lSyHbA', 'https://www.thivien.net/Qu%C3%A1ch-T%E1%BA%A5n/B%E1%BA%BFn-l%E1%BA%A1-thu-bay/poem-OEp3Yh3XaMcHo2SQq4BA2A', 'https://www.thivien.net/Qu%C3%A1ch-T%E1%BA%A5n/B%C3%AAn-s%C3%B4ng/poem-1eG-0ZCFQN6lh3SOMh59xA', 'https://www.thivien.net/Tr%E1%BA%A7n-%C4%90%C3%B4ng-Phong/B%E1%BA%BFn-x%C6%B0a/poem-gYG8-S0-Aj2t_huz74aroA', 'https://www.thivien.net/H%C3%A0n-Qu%E1%BB%91c-V%C5%A9/B%E1%BB%81nh-b%E1%BB%93ng/poem--sOAaXRpFVe3vK95MGlaXw']\n",
            "Truy cập https://www.thivien.net/H%E1%BB%93-Ch%C3%AD-Minh/B%E1%BA%A5y-l%C3%A2u-m%C6%A1-ng%E1%BB%A7-m%C3%A3i-ch%C6%B0a-th%C3%B4i/poem-6SyVQPu-Ye7BMDLIQ8Izuw\n",
            "Lấy dữ liệu thành công https://www.thivien.net/H%E1%BB%93-Ch%C3%AD-Minh/B%E1%BA%A5y-l%C3%A2u-m%C6%A1-ng%E1%BB%A7-m%C3%A3i-ch%C6%B0a-th%C3%B4i/poem-6SyVQPu-Ye7BMDLIQ8Izuw\n",
            "Truy cập https://www.thivien.net/H%C3%A0n-Qu%E1%BB%91c-V%C5%A9/B%C3%A9n-r%E1%BB%85/poem-LuwlmC0F-qI06fZeHjRq8A\n",
            "Lấy dữ liệu thành công https://www.thivien.net/H%C3%A0n-Qu%E1%BB%91c-V%C5%A9/B%C3%A9n-r%E1%BB%85/poem-LuwlmC0F-qI06fZeHjRq8A\n",
            "Truy cập https://www.thivien.net/M%E1%BB%99ng-Tuy%E1%BA%BFt/B%C3%A8o-n%C6%B0%E1%BB%9Bc-t%C6%B0%C6%A1ng-t%C6%B0/poem-CbTBwxAdOr0ApCHRt77ACA\n",
            "Lấy dữ liệu thành công https://www.thivien.net/M%E1%BB%99ng-Tuy%E1%BA%BFt/B%C3%A8o-n%C6%B0%E1%BB%9Bc-t%C6%B0%C6%A1ng-t%C6%B0/poem-CbTBwxAdOr0ApCHRt77ACA\n",
            "Truy cập https://www.thivien.net/Qu%C3%A1ch-T%E1%BA%A5n/B%E1%BA%BFn-c%C5%A9/poem-y_VkGyKMEf3m9TdFogEVww\n",
            "Lấy dữ liệu thành công https://www.thivien.net/Qu%C3%A1ch-T%E1%BA%A5n/B%E1%BA%BFn-c%C5%A9/poem-y_VkGyKMEf3m9TdFogEVww\n",
            "Truy cập https://www.thivien.net/Qu%C3%A1ch-T%E1%BA%A5n/B%C3%AAn-g%C3%A1c-m%E1%BB%99ng/poem--ljRyPbqGTPiPV9K1IsANA\n",
            "Lấy dữ liệu thành công https://www.thivien.net/Qu%C3%A1ch-T%E1%BA%A5n/B%C3%AAn-g%C3%A1c-m%E1%BB%99ng/poem--ljRyPbqGTPiPV9K1IsANA\n",
            "Truy cập https://www.thivien.net/J-Leiba/B%E1%BA%BFn-gi%C3%A1c/poem-OktUaBmCXzBLGYk5lSyHbA\n",
            "Lấy dữ liệu thành công https://www.thivien.net/J-Leiba/B%E1%BA%BFn-gi%C3%A1c/poem-OktUaBmCXzBLGYk5lSyHbA\n",
            "Truy cập https://www.thivien.net/Qu%C3%A1ch-T%E1%BA%A5n/B%E1%BA%BFn-l%E1%BA%A1-thu-bay/poem-OEp3Yh3XaMcHo2SQq4BA2A\n",
            "Lấy dữ liệu thành công https://www.thivien.net/Qu%C3%A1ch-T%E1%BA%A5n/B%E1%BA%BFn-l%E1%BA%A1-thu-bay/poem-OEp3Yh3XaMcHo2SQq4BA2A\n",
            "Truy cập https://www.thivien.net/Qu%C3%A1ch-T%E1%BA%A5n/B%C3%AAn-s%C3%B4ng/poem-1eG-0ZCFQN6lh3SOMh59xA\n",
            "Lấy dữ liệu thành công https://www.thivien.net/Qu%C3%A1ch-T%E1%BA%A5n/B%C3%AAn-s%C3%B4ng/poem-1eG-0ZCFQN6lh3SOMh59xA\n",
            "Truy cập https://www.thivien.net/Tr%E1%BA%A7n-%C4%90%C3%B4ng-Phong/B%E1%BA%BFn-x%C6%B0a/poem-gYG8-S0-Aj2t_huz74aroA\n",
            "Lấy dữ liệu thành công https://www.thivien.net/Tr%E1%BA%A7n-%C4%90%C3%B4ng-Phong/B%E1%BA%BFn-x%C6%B0a/poem-gYG8-S0-Aj2t_huz74aroA\n",
            "Truy cập https://www.thivien.net/H%C3%A0n-Qu%E1%BB%91c-V%C5%A9/B%E1%BB%81nh-b%E1%BB%93ng/poem--sOAaXRpFVe3vK95MGlaXw\n"
          ]
        },
        {
          "output_type": "stream",
          "name": "stderr",
          "text": [
            "\r 25%|██▌       | 1/4 [00:24<01:14, 24.90s/it]"
          ]
        },
        {
          "output_type": "stream",
          "name": "stdout",
          "text": [
            "Lấy dữ liệu thành công https://www.thivien.net/H%C3%A0n-Qu%E1%BB%91c-V%C5%A9/B%E1%BB%81nh-b%E1%BB%93ng/poem--sOAaXRpFVe3vK95MGlaXw\n",
            "\n",
            " ['https://www.thivien.net/H%C3%A0n-Qu%E1%BB%91c-V%C5%A9/Bi%E1%BA%BFn-m%E1%BA%A5t/poem-ldo2rdV5ixBouMq0N4ms2Q', 'https://www.thivien.net/H%C3%A0n-Qu%E1%BB%91c-V%C5%A9/Bi%E1%BB%83n-m%C3%B4i-trinh/poem-UXjWIIOXoJB47BSdUvgisQ', 'https://www.thivien.net/H%C3%A0n-Qu%E1%BB%91c-V%C5%A9/Bi%E1%BB%83n-s%E1%BA%A7u-%C4%91au/poem--hEGankx4zxIoXY4jzeBeA', 'https://www.thivien.net/Ho%C3%A0ng-T%E1%BA%A1o/B%C3%B3c-l%E1%BB%8Bch-c%E1%BA%A3m-t%C3%A1c/poem-h4Fb-NQfwz8stpODRFaUNA', 'https://www.thivien.net/V%C5%A9-Ho%C3%A0ng-Ch%C6%B0%C6%A1ng/B%C3%B3ng-%C4%91%C3%B3-h%C3%ACnh-%C4%91%C3%A2u/poem-61lyUEYFtKwuFPPc2DVstA', 'https://www.thivien.net/H%C3%A0n-Qu%E1%BB%91c-V%C5%A9/B%C3%B3ng-gi%E1%BA%B7c/poem-VdLqJp8RjxJqjEEipUTn0g', 'https://www.thivien.net/T%E1%BB%A5-Vinh/B%C3%B3ng-l%E1%BA%BB/poem-fPDscgPPOlJmVwDnty_tig', 'https://www.thivien.net/H%C3%A0n-Qu%E1%BB%91c-V%C5%A9/B%C3%B3ng-s%E1%BA%A7u/poem-Qx7TSA7YLDeXF6FexxND_g', 'https://www.thivien.net/M%E1%BB%99ng-Tuy%E1%BA%BFt/B%C3%B3ng-tr%C4%83ng-t%C6%B0%C6%A1ng-t%C6%B0/poem-kRNg_czOw-Un_-LimOAYww', 'https://www.thivien.net/Qu%C3%A1ch-T%E1%BA%A5n/B%C3%B3ng-xu%C3%A2n/poem-mn4SFv3HXyTgOOg0_Ti3nQ']\n",
            "Truy cập https://www.thivien.net/H%C3%A0n-Qu%E1%BB%91c-V%C5%A9/Bi%E1%BA%BFn-m%E1%BA%A5t/poem-ldo2rdV5ixBouMq0N4ms2Q\n",
            "Lấy dữ liệu thành công https://www.thivien.net/H%C3%A0n-Qu%E1%BB%91c-V%C5%A9/Bi%E1%BA%BFn-m%E1%BA%A5t/poem-ldo2rdV5ixBouMq0N4ms2Q\n",
            "Truy cập https://www.thivien.net/H%C3%A0n-Qu%E1%BB%91c-V%C5%A9/Bi%E1%BB%83n-m%C3%B4i-trinh/poem-UXjWIIOXoJB47BSdUvgisQ\n",
            "Lấy dữ liệu thành công https://www.thivien.net/H%C3%A0n-Qu%E1%BB%91c-V%C5%A9/Bi%E1%BB%83n-m%C3%B4i-trinh/poem-UXjWIIOXoJB47BSdUvgisQ\n",
            "Truy cập https://www.thivien.net/H%C3%A0n-Qu%E1%BB%91c-V%C5%A9/Bi%E1%BB%83n-s%E1%BA%A7u-%C4%91au/poem--hEGankx4zxIoXY4jzeBeA\n",
            "Lấy dữ liệu thành công https://www.thivien.net/H%C3%A0n-Qu%E1%BB%91c-V%C5%A9/Bi%E1%BB%83n-s%E1%BA%A7u-%C4%91au/poem--hEGankx4zxIoXY4jzeBeA\n",
            "Truy cập https://www.thivien.net/Ho%C3%A0ng-T%E1%BA%A1o/B%C3%B3c-l%E1%BB%8Bch-c%E1%BA%A3m-t%C3%A1c/poem-h4Fb-NQfwz8stpODRFaUNA\n",
            "Lấy dữ liệu thành công https://www.thivien.net/Ho%C3%A0ng-T%E1%BA%A1o/B%C3%B3c-l%E1%BB%8Bch-c%E1%BA%A3m-t%C3%A1c/poem-h4Fb-NQfwz8stpODRFaUNA\n",
            "Truy cập https://www.thivien.net/V%C5%A9-Ho%C3%A0ng-Ch%C6%B0%C6%A1ng/B%C3%B3ng-%C4%91%C3%B3-h%C3%ACnh-%C4%91%C3%A2u/poem-61lyUEYFtKwuFPPc2DVstA\n",
            "Lấy dữ liệu thành công https://www.thivien.net/V%C5%A9-Ho%C3%A0ng-Ch%C6%B0%C6%A1ng/B%C3%B3ng-%C4%91%C3%B3-h%C3%ACnh-%C4%91%C3%A2u/poem-61lyUEYFtKwuFPPc2DVstA\n",
            "Truy cập https://www.thivien.net/H%C3%A0n-Qu%E1%BB%91c-V%C5%A9/B%C3%B3ng-gi%E1%BA%B7c/poem-VdLqJp8RjxJqjEEipUTn0g\n",
            "Lấy dữ liệu thành công https://www.thivien.net/H%C3%A0n-Qu%E1%BB%91c-V%C5%A9/B%C3%B3ng-gi%E1%BA%B7c/poem-VdLqJp8RjxJqjEEipUTn0g\n",
            "Truy cập https://www.thivien.net/T%E1%BB%A5-Vinh/B%C3%B3ng-l%E1%BA%BB/poem-fPDscgPPOlJmVwDnty_tig\n",
            "Lấy dữ liệu thành công https://www.thivien.net/T%E1%BB%A5-Vinh/B%C3%B3ng-l%E1%BA%BB/poem-fPDscgPPOlJmVwDnty_tig\n",
            "Truy cập https://www.thivien.net/H%C3%A0n-Qu%E1%BB%91c-V%C5%A9/B%C3%B3ng-s%E1%BA%A7u/poem-Qx7TSA7YLDeXF6FexxND_g\n",
            "Lấy dữ liệu thành công https://www.thivien.net/H%C3%A0n-Qu%E1%BB%91c-V%C5%A9/B%C3%B3ng-s%E1%BA%A7u/poem-Qx7TSA7YLDeXF6FexxND_g\n",
            "Truy cập https://www.thivien.net/M%E1%BB%99ng-Tuy%E1%BA%BFt/B%C3%B3ng-tr%C4%83ng-t%C6%B0%C6%A1ng-t%C6%B0/poem-kRNg_czOw-Un_-LimOAYww\n",
            "Lấy dữ liệu thành công https://www.thivien.net/M%E1%BB%99ng-Tuy%E1%BA%BFt/B%C3%B3ng-tr%C4%83ng-t%C6%B0%C6%A1ng-t%C6%B0/poem-kRNg_czOw-Un_-LimOAYww\n",
            "Truy cập https://www.thivien.net/Qu%C3%A1ch-T%E1%BA%A5n/B%C3%B3ng-xu%C3%A2n/poem-mn4SFv3HXyTgOOg0_Ti3nQ\n"
          ]
        },
        {
          "output_type": "stream",
          "name": "stderr",
          "text": [
            "\r 50%|█████     | 2/4 [00:47<00:47, 23.71s/it]"
          ]
        },
        {
          "output_type": "stream",
          "name": "stdout",
          "text": [
            "Lấy dữ liệu thành công https://www.thivien.net/Qu%C3%A1ch-T%E1%BA%A5n/B%C3%B3ng-xu%C3%A2n/poem-mn4SFv3HXyTgOOg0_Ti3nQ\n",
            "\n",
            " ['https://www.thivien.net/Qu%C3%A1ch-T%E1%BA%A5n/B%E1%BB%93i-h%E1%BB%93i-ng%E1%BB%8Dn-b%E1%BA%A5c/poem-1AAXDo30Z2a4OxX1tZO5sQ', 'https://www.thivien.net/Tr%E1%BA%A7n-%C4%90%C3%B4ng-Phong/B%E1%BB%91n-c%E1%BA%A3nh-%C4%91%E1%BA%B9p/poem-U3_jk6ctYWm4rAxb9KZZiQ', 'https://www.thivien.net/Tr%E1%BA%A7n-%C4%90%C3%B4ng-Phong/B%E1%BB%91n-%C4%91i%E1%BB%83m-hay-%E1%BB%9F-%C4%90%C3%A0i-B%E1%BA%AFc/poem-XzX0TPcqKl_ZXmP_Ks4mqw', 'https://www.thivien.net/M%C6%B0%E1%BB%9Dng-M%C3%A1n/B%C3%B4ng-c%C6%A1m-ngu%E1%BB%99i/poem-lmkiKEV-sWNldC2aDxLnuA', 'https://www.thivien.net/Ph%E1%BA%A1m-Tr%C6%B0%E1%BB%9Dng-Giang/B%C3%B4ng-h%E1%BB%93ng-t%C3%ACnh-y%C3%AAu/poem-HG-D7EKkFmD-iRyCS3NdrA', 'https://www.thivien.net/Th%C3%ADch-Vi%C3%AAn-Th%C3%A0nh/Bu%E1%BB%95i-%C4%91%E1%BA%A7u-%C4%91%E1%BA%BFn-ch%C3%B9a-H%C6%B0%C6%A1ng/poem-JkTNe0WMXVtHHJHbl-8CBA', 'https://www.thivien.net/Tr%E1%BA%A7n-%C4%90%C3%B4ng-Phong/Bu%E1%BB%95i-s%E1%BB%9Bm-%E1%BB%9F-Na-S%E1%BA%A7m-I/poem-hxLWIJphyEwVbGyaRdBe2A', 'https://www.thivien.net/Tr%E1%BA%A7n-%C4%90%C3%B4ng-Phong/Bu%E1%BB%95i-s%E1%BB%9Bm-%E1%BB%9F-Na-S%E1%BA%A7m-II/poem-VrwyCdsIvHrOheE8EgGoCg', 'https://www.thivien.net/Tr%E1%BA%A7n-%C4%90%C3%B4ng-Phong/Bu%E1%BB%95i-s%E1%BB%9Bm-%E1%BB%9F-Na-S%E1%BA%A7m-III/poem-ctHBY5WIe-j9MKbg1GzQiQ', 'https://www.thivien.net/Nguy%E1%BB%85n-L%C3%A3m-Th%E1%BA%AFng/Bu%E1%BB%93n-kh%C3%B4ng-h%E1%BB%9F-n%C3%BAi/poem-o5LwGoBfW3nmpI1H-GeJpg']\n",
            "Truy cập https://www.thivien.net/Qu%C3%A1ch-T%E1%BA%A5n/B%E1%BB%93i-h%E1%BB%93i-ng%E1%BB%8Dn-b%E1%BA%A5c/poem-1AAXDo30Z2a4OxX1tZO5sQ\n",
            "Lấy dữ liệu thành công https://www.thivien.net/Qu%C3%A1ch-T%E1%BA%A5n/B%E1%BB%93i-h%E1%BB%93i-ng%E1%BB%8Dn-b%E1%BA%A5c/poem-1AAXDo30Z2a4OxX1tZO5sQ\n",
            "Truy cập https://www.thivien.net/Tr%E1%BA%A7n-%C4%90%C3%B4ng-Phong/B%E1%BB%91n-c%E1%BA%A3nh-%C4%91%E1%BA%B9p/poem-U3_jk6ctYWm4rAxb9KZZiQ\n",
            "Lấy dữ liệu thành công https://www.thivien.net/Tr%E1%BA%A7n-%C4%90%C3%B4ng-Phong/B%E1%BB%91n-c%E1%BA%A3nh-%C4%91%E1%BA%B9p/poem-U3_jk6ctYWm4rAxb9KZZiQ\n",
            "Truy cập https://www.thivien.net/Tr%E1%BA%A7n-%C4%90%C3%B4ng-Phong/B%E1%BB%91n-%C4%91i%E1%BB%83m-hay-%E1%BB%9F-%C4%90%C3%A0i-B%E1%BA%AFc/poem-XzX0TPcqKl_ZXmP_Ks4mqw\n",
            "Lấy dữ liệu thành công https://www.thivien.net/Tr%E1%BA%A7n-%C4%90%C3%B4ng-Phong/B%E1%BB%91n-%C4%91i%E1%BB%83m-hay-%E1%BB%9F-%C4%90%C3%A0i-B%E1%BA%AFc/poem-XzX0TPcqKl_ZXmP_Ks4mqw\n",
            "Truy cập https://www.thivien.net/M%C6%B0%E1%BB%9Dng-M%C3%A1n/B%C3%B4ng-c%C6%A1m-ngu%E1%BB%99i/poem-lmkiKEV-sWNldC2aDxLnuA\n",
            "Lấy dữ liệu thành công https://www.thivien.net/M%C6%B0%E1%BB%9Dng-M%C3%A1n/B%C3%B4ng-c%C6%A1m-ngu%E1%BB%99i/poem-lmkiKEV-sWNldC2aDxLnuA\n",
            "Truy cập https://www.thivien.net/Ph%E1%BA%A1m-Tr%C6%B0%E1%BB%9Dng-Giang/B%C3%B4ng-h%E1%BB%93ng-t%C3%ACnh-y%C3%AAu/poem-HG-D7EKkFmD-iRyCS3NdrA\n",
            "Lấy dữ liệu thành công https://www.thivien.net/Ph%E1%BA%A1m-Tr%C6%B0%E1%BB%9Dng-Giang/B%C3%B4ng-h%E1%BB%93ng-t%C3%ACnh-y%C3%AAu/poem-HG-D7EKkFmD-iRyCS3NdrA\n",
            "Truy cập https://www.thivien.net/Th%C3%ADch-Vi%C3%AAn-Th%C3%A0nh/Bu%E1%BB%95i-%C4%91%E1%BA%A7u-%C4%91%E1%BA%BFn-ch%C3%B9a-H%C6%B0%C6%A1ng/poem-JkTNe0WMXVtHHJHbl-8CBA\n",
            "Lấy dữ liệu thành công https://www.thivien.net/Th%C3%ADch-Vi%C3%AAn-Th%C3%A0nh/Bu%E1%BB%95i-%C4%91%E1%BA%A7u-%C4%91%E1%BA%BFn-ch%C3%B9a-H%C6%B0%C6%A1ng/poem-JkTNe0WMXVtHHJHbl-8CBA\n",
            "Truy cập https://www.thivien.net/Tr%E1%BA%A7n-%C4%90%C3%B4ng-Phong/Bu%E1%BB%95i-s%E1%BB%9Bm-%E1%BB%9F-Na-S%E1%BA%A7m-I/poem-hxLWIJphyEwVbGyaRdBe2A\n",
            "Lấy dữ liệu thành công https://www.thivien.net/Tr%E1%BA%A7n-%C4%90%C3%B4ng-Phong/Bu%E1%BB%95i-s%E1%BB%9Bm-%E1%BB%9F-Na-S%E1%BA%A7m-I/poem-hxLWIJphyEwVbGyaRdBe2A\n",
            "Truy cập https://www.thivien.net/Tr%E1%BA%A7n-%C4%90%C3%B4ng-Phong/Bu%E1%BB%95i-s%E1%BB%9Bm-%E1%BB%9F-Na-S%E1%BA%A7m-II/poem-VrwyCdsIvHrOheE8EgGoCg\n",
            "Lấy dữ liệu thành công https://www.thivien.net/Tr%E1%BA%A7n-%C4%90%C3%B4ng-Phong/Bu%E1%BB%95i-s%E1%BB%9Bm-%E1%BB%9F-Na-S%E1%BA%A7m-II/poem-VrwyCdsIvHrOheE8EgGoCg\n",
            "Truy cập https://www.thivien.net/Tr%E1%BA%A7n-%C4%90%C3%B4ng-Phong/Bu%E1%BB%95i-s%E1%BB%9Bm-%E1%BB%9F-Na-S%E1%BA%A7m-III/poem-ctHBY5WIe-j9MKbg1GzQiQ\n",
            "Lấy dữ liệu thành công https://www.thivien.net/Tr%E1%BA%A7n-%C4%90%C3%B4ng-Phong/Bu%E1%BB%95i-s%E1%BB%9Bm-%E1%BB%9F-Na-S%E1%BA%A7m-III/poem-ctHBY5WIe-j9MKbg1GzQiQ\n",
            "Truy cập https://www.thivien.net/Nguy%E1%BB%85n-L%C3%A3m-Th%E1%BA%AFng/Bu%E1%BB%93n-kh%C3%B4ng-h%E1%BB%9F-n%C3%BAi/poem-o5LwGoBfW3nmpI1H-GeJpg\n"
          ]
        },
        {
          "output_type": "stream",
          "name": "stderr",
          "text": [
            "\r 75%|███████▌  | 3/4 [01:08<00:22, 22.32s/it]"
          ]
        },
        {
          "output_type": "stream",
          "name": "stdout",
          "text": [
            "Lấy dữ liệu thành công https://www.thivien.net/Nguy%E1%BB%85n-L%C3%A3m-Th%E1%BA%AFng/Bu%E1%BB%93n-kh%C3%B4ng-h%E1%BB%9F-n%C3%BAi/poem-o5LwGoBfW3nmpI1H-GeJpg\n",
            "\n",
            " ['https://www.thivien.net/Qu%C3%A1ch-T%E1%BA%A5n/Bu%E1%BB%93n-th%C6%B0%C6%A1ng/poem-phTI_-K01_hrtHfBfk1Pcw', 'https://www.thivien.net/M%E1%BB%99ng-Tuy%E1%BA%BFt/B%E1%BB%A9c-th%C6%B0-t%C6%B0%C6%A1ng-t%C6%B0/poem-cyb6NlDva_Z3wPH-d_pEtw', 'https://www.thivien.net/Y%E1%BA%BFn-Lan/C%C3%A1i-c%C3%B2n-l%E1%BA%A1i/poem-NH15Pe1wMSKOCGc4lrGaHA', 'https://www.thivien.net/Huy-C%E1%BA%ADn/C%C3%A1i-d%E1%BA%A1-y%C3%AAu-%C4%91%E1%BB%9Di/poem-oRilsH6WKPb4FiOlhqERuQ', 'https://www.thivien.net/H%C3%A0n-Qu%E1%BB%91c-V%C5%A9/C%C3%A0i-gi%E1%BB%8Dt-nh%E1%BB%9B/poem-qv8weKWfNaeGDFHAwMzpWg', 'https://www.thivien.net/Nguy%E1%BB%85n-L%C3%A3m-Th%E1%BA%AFng/C%C3%A1i-nh%E1%BB%9B/poem-mm0OFiA3-GEuEt5E-uA0Gg', 'https://www.thivien.net/V%C5%A9-Ho%C3%A0ng-Ch%C6%B0%C6%A1ng/C%C3%A1i-nh%E1%BB%A5c-l%C3%A0m-ng%C6%B0%E1%BB%9Di/poem-x-NYrmTNP0MQ9S6RwHJHgQ', 'https://www.thivien.net/H%C3%A0n-Qu%E1%BB%91c-V%C5%A9/C%C3%A1i-t%C6%A1-duy%C3%AAn/poem-VwGaTQl5H7GZHtCw_myQaQ', 'https://www.thivien.net/V%C5%A9-Ho%C3%A0ng-Ch%C6%B0%C6%A1ng/C%E1%BA%A3m-%C4%91%E1%BB%81/poem-mM0mckIRmWGB4iSb_C_x1Q', 'https://www.thivien.net/B%C3%ADch-Kh%C3%AA/C%E1%BA%A3m-h%E1%BB%A9ng/poem-1Lv93jpix-pcD4QsZqB7-g']\n",
            "Truy cập https://www.thivien.net/Qu%C3%A1ch-T%E1%BA%A5n/Bu%E1%BB%93n-th%C6%B0%C6%A1ng/poem-phTI_-K01_hrtHfBfk1Pcw\n",
            "Lấy dữ liệu thành công https://www.thivien.net/Qu%C3%A1ch-T%E1%BA%A5n/Bu%E1%BB%93n-th%C6%B0%C6%A1ng/poem-phTI_-K01_hrtHfBfk1Pcw\n",
            "Truy cập https://www.thivien.net/M%E1%BB%99ng-Tuy%E1%BA%BFt/B%E1%BB%A9c-th%C6%B0-t%C6%B0%C6%A1ng-t%C6%B0/poem-cyb6NlDva_Z3wPH-d_pEtw\n",
            "Lấy dữ liệu thành công https://www.thivien.net/M%E1%BB%99ng-Tuy%E1%BA%BFt/B%E1%BB%A9c-th%C6%B0-t%C6%B0%C6%A1ng-t%C6%B0/poem-cyb6NlDva_Z3wPH-d_pEtw\n",
            "Truy cập https://www.thivien.net/Y%E1%BA%BFn-Lan/C%C3%A1i-c%C3%B2n-l%E1%BA%A1i/poem-NH15Pe1wMSKOCGc4lrGaHA\n",
            "Lấy dữ liệu thành công https://www.thivien.net/Y%E1%BA%BFn-Lan/C%C3%A1i-c%C3%B2n-l%E1%BA%A1i/poem-NH15Pe1wMSKOCGc4lrGaHA\n",
            "Truy cập https://www.thivien.net/Huy-C%E1%BA%ADn/C%C3%A1i-d%E1%BA%A1-y%C3%AAu-%C4%91%E1%BB%9Di/poem-oRilsH6WKPb4FiOlhqERuQ\n",
            "Lấy dữ liệu thành công https://www.thivien.net/Huy-C%E1%BA%ADn/C%C3%A1i-d%E1%BA%A1-y%C3%AAu-%C4%91%E1%BB%9Di/poem-oRilsH6WKPb4FiOlhqERuQ\n",
            "Truy cập https://www.thivien.net/H%C3%A0n-Qu%E1%BB%91c-V%C5%A9/C%C3%A0i-gi%E1%BB%8Dt-nh%E1%BB%9B/poem-qv8weKWfNaeGDFHAwMzpWg\n",
            "Lấy dữ liệu thành công https://www.thivien.net/H%C3%A0n-Qu%E1%BB%91c-V%C5%A9/C%C3%A0i-gi%E1%BB%8Dt-nh%E1%BB%9B/poem-qv8weKWfNaeGDFHAwMzpWg\n",
            "Truy cập https://www.thivien.net/Nguy%E1%BB%85n-L%C3%A3m-Th%E1%BA%AFng/C%C3%A1i-nh%E1%BB%9B/poem-mm0OFiA3-GEuEt5E-uA0Gg\n",
            "Lấy dữ liệu thành công https://www.thivien.net/Nguy%E1%BB%85n-L%C3%A3m-Th%E1%BA%AFng/C%C3%A1i-nh%E1%BB%9B/poem-mm0OFiA3-GEuEt5E-uA0Gg\n",
            "Truy cập https://www.thivien.net/V%C5%A9-Ho%C3%A0ng-Ch%C6%B0%C6%A1ng/C%C3%A1i-nh%E1%BB%A5c-l%C3%A0m-ng%C6%B0%E1%BB%9Di/poem-x-NYrmTNP0MQ9S6RwHJHgQ\n",
            "Lấy dữ liệu thành công https://www.thivien.net/V%C5%A9-Ho%C3%A0ng-Ch%C6%B0%C6%A1ng/C%C3%A1i-nh%E1%BB%A5c-l%C3%A0m-ng%C6%B0%E1%BB%9Di/poem-x-NYrmTNP0MQ9S6RwHJHgQ\n",
            "Truy cập https://www.thivien.net/H%C3%A0n-Qu%E1%BB%91c-V%C5%A9/C%C3%A1i-t%C6%A1-duy%C3%AAn/poem-VwGaTQl5H7GZHtCw_myQaQ\n",
            "Lỗi truy cập link https://www.thivien.net/H%C3%A0n-Qu%E1%BB%91c-V%C5%A9/C%C3%A1i-t%C6%A1-duy%C3%AAn/poem-VwGaTQl5H7GZHtCw_myQaQ\n",
            "Truy cập https://www.thivien.net/V%C5%A9-Ho%C3%A0ng-Ch%C6%B0%C6%A1ng/C%E1%BA%A3m-%C4%91%E1%BB%81/poem-mM0mckIRmWGB4iSb_C_x1Q\n",
            "Lấy dữ liệu thành công https://www.thivien.net/V%C5%A9-Ho%C3%A0ng-Ch%C6%B0%C6%A1ng/C%E1%BA%A3m-%C4%91%E1%BB%81/poem-mM0mckIRmWGB4iSb_C_x1Q\n",
            "Truy cập https://www.thivien.net/B%C3%ADch-Kh%C3%AA/C%E1%BA%A3m-h%E1%BB%A9ng/poem-1Lv93jpix-pcD4QsZqB7-g\n"
          ]
        },
        {
          "output_type": "stream",
          "name": "stderr",
          "text": [
            "100%|██████████| 4/4 [01:38<00:00, 24.57s/it]"
          ]
        },
        {
          "output_type": "stream",
          "name": "stdout",
          "text": [
            "Lấy dữ liệu thành công https://www.thivien.net/B%C3%ADch-Kh%C3%AA/C%E1%BA%A3m-h%E1%BB%A9ng/poem-1Lv93jpix-pcD4QsZqB7-g\n"
          ]
        },
        {
          "output_type": "stream",
          "name": "stderr",
          "text": [
            "\n"
          ]
        }
      ],
      "source": [
        "that_ngon_tu_tuyet_4 = crawl_data('https://www.thivien.net/searchpoem.php?PoemType=6&ViewType=1&Country=2&Age[]=3', 7, 10)"
      ]
    },
    {
      "cell_type": "markdown",
      "metadata": {
        "id": "SO69LBidThCd"
      },
      "source": [
        "# Save datasets to csv"
      ]
    },
    {
      "cell_type": "code",
      "execution_count": 6,
      "metadata": {
        "id": "yAoky-UxTi9S"
      },
      "outputs": [],
      "source": [
        "def save_dataset(dataset, name):\n",
        "  df = pd.DataFrame(dataset)\n",
        "  df.to_csv(name, index=False, encoding='utf-8-sig')"
      ]
    },
    {
      "cell_type": "code",
      "execution_count": 9,
      "metadata": {
        "id": "uk-aKyB1oPXS"
      },
      "outputs": [],
      "source": [
        "save_dataset(that_ngon_tu_tuyet_1, 'that_ngon_tu_tuyet_1.csv')"
      ]
    },
    {
      "cell_type": "code",
      "source": [
        "save_dataset(that_ngon_tu_tuyet_2, 'that_ngon_tu_tuyet_2.csv')"
      ],
      "metadata": {
        "id": "ys4Q6gliAF0D"
      },
      "execution_count": 8,
      "outputs": []
    },
    {
      "cell_type": "code",
      "source": [
        "save_dataset(that_ngon_tu_tuyet_3, 'that_ngon_tu_tuyet_3.csv')"
      ],
      "metadata": {
        "id": "rFyTcZ74AGIx"
      },
      "execution_count": 8,
      "outputs": []
    },
    {
      "cell_type": "code",
      "source": [
        "save_dataset(that_ngon_tu_tuyet_4, 'that_ngon_tu_tuyet_4.csv')"
      ],
      "metadata": {
        "id": "rEveR3HWAHlc"
      },
      "execution_count": 7,
      "outputs": []
    },
    {
      "cell_type": "markdown",
      "source": [
        "# Save final dataset"
      ],
      "metadata": {
        "id": "KRvERYBwGw_y"
      }
    },
    {
      "cell_type": "code",
      "source": [
        "file_list = [\n",
        "    \"that_ngon_tu_tuyet_1.csv\",\n",
        "    \"that_ngon_tu_tuyet_2.csv\",\n",
        "    \"that_ngon_tu_tuyet_3.csv\",\n",
        "    \"that_ngon_tu_tuyet_4.csv\"\n",
        "]\n",
        "\n",
        "df_final = pd.concat([pd.read_csv(file) for file in file_list], ignore_index=True)\n",
        "\n",
        "df_final.to_csv(\"that_ngon_tu_tuyet_final.csv\", index=False, encoding='utf-8-sig')"
      ],
      "metadata": {
        "id": "fGoUbIDCGzb1"
      },
      "execution_count": 9,
      "outputs": []
    }
  ],
  "metadata": {
    "colab": {
      "provenance": []
    },
    "kernelspec": {
      "display_name": "Python 3",
      "name": "python3"
    },
    "language_info": {
      "name": "python"
    }
  },
  "nbformat": 4,
  "nbformat_minor": 0
}